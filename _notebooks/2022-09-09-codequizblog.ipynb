{
 "cells": [
  {
   "cell_type": "markdown",
   "metadata": {},
   "source": [
    "# Code.org Quiz Progress\n",
    "\n",
    "- title: Code.org Quiz Progress\n",
    "- toc: true\n",
    "- comments: true\n",
    "- categories: [jupyter]"
   ]
  },
  {
   "cell_type": "markdown",
   "metadata": {},
   "source": [
    "> Link to the app can be found at the bottom of the page. \n",
    "> \n",
    "> Note: These code blocks are not optimized for Python."
   ]
  },
  {
   "cell_type": "markdown",
   "metadata": {},
   "source": [
    "# Process\n",
    "\n",
    "Making the quiz was very simple and interesting. The quiz includes 3 multiple-choice questions and 1 free-response question. Working with different elements such as buttons and images was easy for the most part and didn't present any challenges. Making the free response question was a bit tricky. I had to play around with its assigned block and the text input function to make it work."
   ]
  },
  {
   "cell_type": "code",
   "execution_count": null,
   "metadata": {},
   "outputs": [],
   "source": [
    "# Default Notation\n",
    "onEvent(\"textinput\", \"change\", function(event) {\n",
    "});\n",
    "\n",
    "# My Edit\n",
    "onEvent(\"text_input1\", \"change\", function(event) {\n",
    "});"
   ]
  },
  {
   "cell_type": "markdown",
   "metadata": {},
   "source": [
    "Another extra feature that I added to my app was the usage of retrieving data from a text input. By adding the following code to the text input function, I managed to display the entered number from the free-response question:"
   ]
  },
  {
   "cell_type": "code",
   "execution_count": null,
   "metadata": {},
   "outputs": [],
   "source": [
    "# Default Notation\n",
    "onEvent(\"textinput\", \"change\", function(event) {\n",
    "  setText(\"id\", + getText(\"textinput\"));\n",
    "  setScreen(\"id\");\n",
    "});\n",
    "\n",
    "# My Edit\n",
    "onEvent(\"text_input1\", \"change\", function(event) {\n",
    "  setText(\"response\", \"Wow, only \" + getText(\"text_input1\") + \"?\");\n",
    "  setScreen(\"r1\");\n",
    "});"
   ]
  },
  {
   "cell_type": "markdown",
   "metadata": {},
   "source": [
    "![]({{ site.baseurl }}/images/Screenshot 2022-09-10 171040.png)\n",
    "\n",
    "I also added to add \"wrong answer\" screens which appear if the user selects wrong answers. I simply assigned these screens to appropriate buttons.\n",
    "\n",
    "![]({{ site.baseurl }}/images/Screenshot 2022-09-10 171448.png)\n",
    "\n",
    "Currently I'm trying to figure out a way to make the code a bit shorter using conditionals, but I don't think it'll work since I'm not that familiar with JavaScript."
   ]
  },
  {
   "cell_type": "markdown",
   "metadata": {},
   "source": [
    "---"
   ]
  },
  {
   "cell_type": "markdown",
   "metadata": {},
   "source": [
    "## Update\n",
    "\n",
    "I decided to use the dropdown function as a way to display a body of text. This dropdown box presents the \"prize\" to the user. \n",
    "\n",
    "![]({{ site.baseurl }}/images/Screenshot 2022-09-10 171418.png)"
   ]
  },
  {
   "cell_type": "markdown",
   "metadata": {},
   "source": [
    "The trickiest part of developing this quiz was displaying the final score at the end. I used a variables and individual functions to make it work. The individual functions largely increase the size of the code and I couldn't find a way to shorten them. Each individual function is assigned to a button. Buttons with correct answers add one point to the initial variable and buttons with incorrect answers subtract one point."
   ]
  },
  {
   "cell_type": "code",
   "execution_count": null,
   "metadata": {},
   "outputs": [],
   "source": [
    "# setting the variable\n",
    "var score = 0;\n",
    "setText(\"text_input\", \"Score = \" + score);\n",
    "\n",
    "onEvent(\"id\", \"click\", function(event) {        # in this case, id is a correct answer \n",
    "  score = score + 1;\n",
    "  setText(\"text_input\", \"Score = \" + score);        # one point added\n",
    "});\n",
    "\n",
    "onEvent(\"id\", \"click\", function(event) {       # in this case, id is an incorrect answer\n",
    "  score = score - 1;       \n",
    "  setText(\"text_input\", \"Score = \" + score);        # one point subtracted \n",
    "});"
   ]
  },
  {
   "cell_type": "markdown",
   "metadata": {},
   "source": [
    "![]({{ site.baseurl }}/images/Screenshot 2022-09-10 171346.png)"
   ]
  },
  {
   "cell_type": "markdown",
   "metadata": {},
   "source": [
    "---"
   ]
  },
  {
   "cell_type": "markdown",
   "metadata": {},
   "source": [
    "You can check out the quiz by clicking [here](https://studio.code.org/projects/applab/dK3rsj1wyrLTotdtTSvEog1SQxyveOZOI9EupNZpdQE)."
   ]
  }
 ],
 "metadata": {
  "kernelspec": {
   "display_name": "Python 3.8.10 64-bit",
   "language": "python",
   "name": "python3"
  },
  "language_info": {
   "name": "python",
   "version": "3.8.10"
  },
  "orig_nbformat": 4,
  "vscode": {
   "interpreter": {
    "hash": "916dbcbb3f70747c44a77c7bcd40155683ae19c65e1c03b4aa3499c5328201f1"
   }
  }
 },
 "nbformat": 4,
 "nbformat_minor": 2
}
