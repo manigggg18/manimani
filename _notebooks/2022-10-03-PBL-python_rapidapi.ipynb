{
 "cells": [
  {
   "cell_type": "markdown",
   "metadata": {},
   "source": [
    "# Application Programming Interface (API)\n",
    "\n",
    "- title: Python RapidAPI\n",
    "- toc: true\n",
    "- permalink: /rapidapi\n",
    "- week: 7"
   ]
  },
  {
   "cell_type": "markdown",
   "metadata": {},
   "source": [
    "{% include navbarsubmenu.html %}"
   ]
  },
  {
   "cell_type": "code",
   "execution_count": 13,
   "metadata": {},
   "outputs": [
    {
     "name": "stdout",
     "output_type": "stream",
     "text": [
      "{\"status\":200,\"success\":true,\"messageStatus\":\"OK\",\"results\":[{\"name\":\"Acción\",\"uuid\":\"accion\"},{\"name\":\"Animación\",\"uuid\":\"animacion\"},{\"name\":\"Aventura\",\"uuid\":\"aventura\"},{\"name\":\"Ciencia Ficción\",\"uuid\":\"ciencia-ficcion\"},{\"name\":\"Comedia\",\"uuid\":\"comedia\"},{\"name\":\"Crimen\",\"uuid\":\"crimen\"},{\"name\":\"Documental\",\"uuid\":\"documental\"},{\"name\":\"Drama\",\"uuid\":\"drama\"},{\"name\":\"Fantasía\",\"uuid\":\"fantasia\"},{\"name\":\"Foreign\",\"uuid\":\"foreign\"},{\"name\":\"Guerra\",\"uuid\":\"guerra\"},{\"name\":\"Historia\",\"uuid\":\"historia\"},{\"name\":\"Pelicula De\\nLa Televisión\",\"uuid\":\"pelicula-de-la-television\"},{\"name\":\"Romance\",\"uuid\":\"romance\"},{\"name\":\"Suspense\",\"uuid\":\"suspense\"},{\"name\":\"Terror\",\"uuid\":\"terror\"},{\"name\":\"Western\",\"uuid\":\"western\"},{\"name\":\"Misterio\",\"uuid\":\"misterio\"}]}\n"
     ]
    }
   ],
   "source": [
    "import requests\n",
    "\n",
    "url = \"https://movies-app1.p.rapidapi.com/api/genres\"\n",
    "\n",
    "headers = {\n",
    "\t\"X-RapidAPI-Key\": \"24662782b6msh7d95c7667aea623p12c71ajsnc0aa91d82aa9\",\n",
    "\t\"X-RapidAPI-Host\": \"movies-app1.p.rapidapi.com\"\n",
    "}\n",
    "\n",
    "response = requests.request(\"GET\", url, headers=headers)\n",
    "\n",
    "print(response.text)"
   ]
  }
 ],
 "metadata": {
  "kernelspec": {
   "display_name": "Python 3.9.12 ('base')",
   "language": "python",
   "name": "python3"
  },
  "language_info": {
   "codemirror_mode": {
    "name": "ipython",
    "version": 3
   },
   "file_extension": ".py",
   "mimetype": "text/x-python",
   "name": "python",
   "nbconvert_exporter": "python",
   "pygments_lexer": "ipython3",
   "version": "3.9.12"
  },
  "orig_nbformat": 4,
  "vscode": {
   "interpreter": {
    "hash": "33c078916551e7df06d6239c31e0a5ca0c0782cc8455a487fd402e7e7dd73d0b"
   }
  }
 },
 "nbformat": 4,
 "nbformat_minor": 2
}
