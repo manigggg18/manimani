{
 "cells": [
  {
   "cell_type": "markdown",
   "metadata": {},
   "source": [
    "# Application Programming Interface (API)\n",
    "\n",
    "- title: Python RapidAPI\n",
    "- toc: true\n",
    "- permalink: /rapidapi\n",
    "- week: 7"
   ]
  },
  {
   "cell_type": "markdown",
   "metadata": {},
   "source": [
    "{% include navbarsubmenu.html %}"
   ]
  },
  {
   "cell_type": "markdown",
   "metadata": {},
   "source": [
    "## API Usage and Organization: Radio Stations (France)"
   ]
  },
  {
   "cell_type": "code",
   "execution_count": 16,
   "metadata": {},
   "outputs": [
    {
     "name": "stdout",
     "output_type": "stream",
     "text": [
      "image_url https://mypromotions.sfo2.cdn.digitaloceanspaces.com/radios/7751.jpg\n",
      "name France Info\n",
      "uri https://icecast.radiofrance.fr/franceinfo-midfi.mp3\n",
      "channel_id 7751\n",
      "countryCode fr\n",
      "genre News,Talk\n"
     ]
    }
   ],
   "source": [
    "# pasted code fragment from RapidAPI\n",
    "import requests\n",
    "\n",
    "url = \"https://radio-world-50-000-radios-stations.p.rapidapi.com/v1/radios/getTopByCountry\"\n",
    "\n",
    "querystring = {\"query\":\"fr\"}\n",
    "\n",
    "headers = {\n",
    "\t\"X-RapidAPI-Key\": \"24662782b6msh7d95c7667aea623p12c71ajsnc0aa91d82aa9\",\n",
    "\t\"X-RapidAPI-Host\": \"radio-world-50-000-radios-stations.p.rapidapi.com\"\n",
    "}\n",
    "\n",
    "response = requests.request(\"GET\", url, headers=headers, params=querystring)\n",
    "\n",
    "# printing organized data\n",
    "stats = response.json().get('radios')     # data file type/name\n",
    "for stat in stats:  # list: stat in stats\n",
    "    if stat[\"channel_id\"] == 7751:\n",
    "        for key, value in stat.items():\n",
    "            print(key, value)"
   ]
  },
  {
   "cell_type": "markdown",
   "metadata": {},
   "source": [
    "## Alternate Query (US)"
   ]
  },
  {
   "cell_type": "code",
   "execution_count": 20,
   "metadata": {},
   "outputs": [
    {
     "name": "stdout",
     "output_type": "stream",
     "text": [
      "image_url https://mypromotions.sfo2.cdn.digitaloceanspaces.com/radios/58039.jpg\n",
      "name FOX News Radio\n",
      "uri https://streaming-ent.shoutcast.com/foxnews\n",
      "channel_id 58039\n",
      "countryCode us\n",
      "genre News,Talk\n"
     ]
    }
   ],
   "source": [
    "# pasted code fragment from RapidAPI\n",
    "import requests\n",
    "\n",
    "url = \"https://radio-world-50-000-radios-stations.p.rapidapi.com/v1/radios/getTopByCountry\"\n",
    "\n",
    "querystring = {\"query\":\"us\"}\n",
    "\n",
    "headers = {\n",
    "\t\"X-RapidAPI-Key\": \"f5bcc1b7damsh9cd6eb2e03d6591p14cf1djsn33097094485f\",\n",
    "\t\"X-RapidAPI-Host\": \"radio-world-50-000-radios-stations.p.rapidapi.com\"\n",
    "}\n",
    "\n",
    "response = requests.request(\"GET\", url, headers=headers, params=querystring)\n",
    "\n",
    "# printing organized data\n",
    "stats = response.json().get('radios')     # data file type/name\n",
    "for stat in stats:  # list: stat in stats\n",
    "    if stat[\"channel_id\"] == 58039:\n",
    "        for key, value in stat.items():\n",
    "            print(key, value)"
   ]
  }
 ],
 "metadata": {
  "kernelspec": {
   "display_name": "Python 3.9.12 ('base')",
   "language": "python",
   "name": "python3"
  },
  "language_info": {
   "codemirror_mode": {
    "name": "ipython",
    "version": 3
   },
   "file_extension": ".py",
   "mimetype": "text/x-python",
   "name": "python",
   "nbconvert_exporter": "python",
   "pygments_lexer": "ipython3",
   "version": "3.9.12"
  },
  "orig_nbformat": 4,
  "vscode": {
   "interpreter": {
    "hash": "33c078916551e7df06d6239c31e0a5ca0c0782cc8455a487fd402e7e7dd73d0b"
   }
  }
 },
 "nbformat": 4,
 "nbformat_minor": 2
}
