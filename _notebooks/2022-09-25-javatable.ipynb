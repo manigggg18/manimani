{
 "cells": [
  {
   "cell_type": "markdown",
   "metadata": {},
   "source": [
    "# Java Table\n",
    "\n",
    "- title: Java Table\n",
    "- comments: true\n",
    "- permalink: /jupyter/java_table\n",
    "- categories: [jupyter]"
   ]
  },
  {
   "cell_type": "markdown",
   "metadata": {},
   "source": [
    "{% include navbarsubmenu.html %}"
   ]
  },
  {
   "cell_type": "markdown",
   "metadata": {},
   "source": [
    "## Table\n",
    "\n",
    "The cell containing previous definitions and functions is hidden in order to create a more organized blog.\n",
    "\n",
    "Full code can be found [here](https://github.com/kaiden-dough/fastpages)."
   ]
  },
  {
   "cell_type": "code",
   "execution_count": 10,
   "metadata": {},
   "outputs": [
    {
     "data": {
      "text/html": [
       "<div style='display:inline-block;border: 5px solid blue;box-shadow: 1em 1em 1em red;'><table><tr><th><b>Name</b></th><th><b>Creator</b></th><th><b>Date</b></th><th><b>Type</b></th></tr><tr><td>Kid A</td><td>Radiohead</td><td>2000</td><td>Album</td><tr><tr><td>Whiplash</td><td>Damien Chazelle</td><td>2014</td><td>Movie</td><tr><tr><td>Atonement</td><td>Joe Wright</td><td>2007</td><td>Movie</td><tr><tr><td>Prestige</td><td>Christopher Nolan</td><td>2006</td><td>Movie</td><tr><tr><td>Fargo</td><td>Noah Hawley</td><td>2014</td><td>Show</td><tr><tr><td>Daredevil</td><td>Kati Johnson</td><td>2015</td><td>Show</td><tr></table></div>"
      ]
     },
     "execution_count": 10,
     "metadata": {},
     "output_type": "execute_result"
    }
   ],
   "source": [
    "Medias.prototype._toHtml = function() {         // inline structure\n",
    "    var style = (\n",
    "      \"display:inline-block;\" +\n",
    "      \"border: 5px solid blue;\" +\n",
    "      \"box-shadow: 1em 1em 1em red;\"\n",
    "    );\n",
    "    var body = \"\";        // Heading\n",
    "    body += \"<tr>\";\n",
    "    body += \"<th><b>\" + \"Name\" + \"</b></th>\";\n",
    "    body += \"<th><b>\" + \"Creator\" + \"</b></th>\";\n",
    "    body += \"<th><b>\" + \"Date\" + \"</b></th>\";\n",
    "    body += \"<th><b>\" + \"Type\" + \"</b></th>\";\n",
    "    body += \"</tr>\";        // Data of Array\n",
    "    for (var row of catalog.medias) {\n",
    "      body += \"<tr>\";\n",
    "      body += \"<td>\" + row.name + \"</td>\";\n",
    "      body += \"<td>\" + row.cre + \"</td>\";\n",
    "      body += \"<td>\" + row.date + \"</td>\";\n",
    "      body += \"<td>\" + row.type + \"</td>\";\n",
    "      body += \"<tr>\";\n",
    "    }\n",
    "  \n",
    "    return (           // div, table, table body\n",
    "      \"<div style='\" + style + \"'>\" +\n",
    "        \"<table>\" +\n",
    "          body +\n",
    "        \"</table>\" +\n",
    "      \"</div>\"\n",
    "    );\n",
    "  \n",
    "  };\n",
    "  \n",
    "  $$.html(catalog._toHtml());       // receives parameter of defined HTML fragment"
   ]
  }
 ],
 "metadata": {
  "kernelspec": {
   "display_name": "JavaScript (Node.js)",
   "language": "javascript",
   "name": "javascript"
  },
  "language_info": {
   "file_extension": ".js",
   "mimetype": "application/javascript",
   "name": "javascript",
   "version": "6.11.2"
  },
  "orig_nbformat": 4
 },
 "nbformat": 4,
 "nbformat_minor": 2
}
