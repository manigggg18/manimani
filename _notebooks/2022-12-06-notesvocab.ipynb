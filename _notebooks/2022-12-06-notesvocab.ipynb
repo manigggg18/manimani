{
 "cells": [
  {
   "cell_type": "markdown",
   "metadata": {},
   "source": [
    "# Class Notes \n",
    "\n",
    "- title: Class Notes\n",
    "- comments: true\n",
    "- permalink: /jupyter/nv\n",
    "- categories: [lesson]"
   ]
  },
  {
   "attachments": {},
   "cell_type": "markdown",
   "metadata": {},
   "source": [
    "## Unit 2\n",
    "\n",
    "#### Bits\n",
    "\n",
    "A bit (binary digit) is the smallest unit of data that a computer can process and store. A bit is always in one of two physical states, similar to an on/off light switch. The state is represented by a single binary value, usually a 0 or 1.\n",
    "\n",
    "\n",
    "#### Bytes\n",
    "\n",
    "In most computer systems, a byte is a unit of data that is eight binary digits long. A byte is the unit most computers use to represent a character such as a letter, number or typographic symbol. Each byte can hold a string of bits that need to be used in a larger unit for application purposes.\n",
    "\n",
    "#### Hexadecimal / Nibbles\n",
    "\n",
    "Hexadecimal is a numbering system with base 16. It can be used to represent large numbers with fewer digits. In this system there are 16 symbols or possible digit values from 0 to 9, followed by six alphabetic characters -- A, B, C, D, E and F.\n",
    "\n",
    "In computing and digital technology, a nibble is four consecutive binary digits or half of an 8-bit byte. When referring to a byte, it is either the first four bits or the last four bits, which is why a nibble is sometimes referred to as a half-byte.\n",
    "\n",
    "### Binary Numbers: \n",
    "\n",
    "#### Unsigned Integer \n",
    "\n",
    "Unsigned Integers (often called \"units\") are just like integers (whole numbers) but have the property that they don't have a + or - sign associated with them. Thus they are always non-negative (zero or positive). We use uint's when we know the value we are counting will always be non-negative.\n",
    "\n",
    "#### Signed Integer\n",
    "\n",
    "A signed integer is a 32-bit datum that encodes an integer in the range [-2147483648 to 2147483647]. An unsigned integer is a 32-bit datum that encodes a nonnegative integer in the range [0 to 4294967295]. The signed integer is represented in twos complement notation.\n",
    "\n",
    "#### Floating Point\n",
    "\n",
    "A floating point number, is a positive or negative whole number with a decimal point. For example, 5.5, 0.25, and -103.342 are all floating point numbers, while 91, and 0 are not. Floating point numbers get their name from the way the decimal point can \"float\" to any position necessary.\n",
    "\n",
    "### Binary Data Abstractions:\n",
    "\n",
    "#### Boolean\n",
    "\n",
    "A data type that has one of two possible values which is intended to represent the two truth values of logic and Boolean algebra.\n",
    "\n",
    "#### Unicode/ASCII\n",
    "\n",
    "Unicode and ASCII are the most popular character encoding standards that are currently being used all over the world. Unicode is the universal character encoding used to process, store and facilitate the interchange of text data in any language while ASCII is used for the representation of text such as symbols, letters, digits, etc. in computers.\n",
    "\n",
    "#### RGB\n",
    "\n",
    "Colors in a computer program are represented by combining 3 \"pigments\". These pigments are Red, Green, and Blue (which contrasts with the \"primary\" colors we are used to as a child). By combining some amount of Red, some amount of Green, and some amount of Blue, any (displayable) color can be achieved.\n",
    "\n",
    "#### Variables \n",
    "\n",
    "A variable is a value that can change, depending on conditions or on information passed to the program. Typically, a program consists of instruction s that tell the computer what to do and data that the program uses when it is running.\n",
    "\n",
    "#### Data Types\n",
    "\n",
    "A data type is a classification of data which tells the compiler or interpreter how the programmer intends to use the data. Most programming languages support various types of data, including integer, real, character or string, and Boolean.\n",
    "\n",
    "#### Assignment Operators\n",
    "\n",
    "Assignment operators are used to assign values to variables. \n",
    "\n",
    "#### Lists\n",
    "\n",
    "A list is a sequence of several variables, grouped together under a single name. Instead of writing a program with many variables x0 , x1 , x2 , … you can define a single variable x and access its members x[0] , x[1] , x[2] , etc.\n",
    "\n",
    "#### 2D Lists\n",
    "\n",
    "A 2D array in python is a two-dimensional data structure stored linearly in the memory. It means that it has two dimensions, the rows, and the columns, and thus it also represents a matrix.\n",
    "\n",
    "#### Dictionaries\n",
    "\n",
    "A dictionary is also called a hash, a map, a hashmap in different programming languages. The keys in a dictionary must be simple types (such as integers or strings) while the values can be of any type. Different languages enforce different type restrictions on keys and values in a dictionary.\n",
    "\n",
    "#### Class\n",
    "\n",
    "In object-oriented programming , a class is a template definition of the method s and variable s in a particular kind of object . Thus, an object is a specific instance of a class; it contains real values instead of variables. The class is one of the defining ideas of object-oriented programming.\n",
    "\n",
    "#### Algorithms\n",
    "\n",
    "A programming algorithm is a procedure or formula used for solving a problem. It is based on conducting a sequence of specified actions in which these actions describe how to do something, and your computer will do it exactly that way every time. An algorithm works by following a procedure, made up of inputs.\n",
    "\n",
    "#### Sequence\n",
    "\n",
    "In programming, sequence is a basic algorithm: A set of logical steps carried out in order. Computers need instructions in the form of an algorithm in order to complete a desired task, and this algorithm must have the correct order of steps, or sequence.\n",
    "\n",
    "#### Selection\n",
    "\n",
    "Selection is a programming construct where a section of code is run only if a condition is met. In programming, there are occasions when a decision needs to be made. Selection is the process of making a decision. The result of the decision determines which path the program will take next.\n",
    "\n",
    "#### Iteration\n",
    "\n",
    "In programming specifically, iterative refers to a sequence of instructions or code being repeated until a specific end result is achieved. Iterative development is sometimes called circular or evolutionary development.\n",
    "\n",
    "#### Expressions\n",
    "\n",
    "In programming language terminology, an “expression” is a combination of values and functions that are combined and interpreted by the compiler to create a new value, as opposed to a “statement” which is just a standalone unit of execution and doesn't return anything.\n",
    "\n",
    "#### Comparison Operators\n",
    "\n",
    "Comparison operators can compare numbers or strings and perform evaluations. Expressions that use comparison operators do not return a number value as do arithmetic expressions. Comparison expressions return either 1 , which represents true, or 0 , which represents false.\n",
    "\n",
    "#### Truth Tables\n",
    "\n",
    "A truth table is a display of the inputs to, and the output of a Boolean function organized as a table where each row gives one combination of input values and the corresponding value of the function.\n",
    "\n",
    "#### Characters\n",
    "\n",
    "The character in computer programming is an essential category of variable or constant that is defined and dealt with in code.\n",
    "\n",
    "\n",
    "#### Strings\n",
    "\n",
    "A string is traditionally a sequence of characters, either as a literal constant or as some kind of variable. The latter may allow its elements to be mutated and the length changed, or it may be fixed (after creation).\n",
    "\n",
    "#### Length\n",
    "\n",
    "It takes a string as a parameter and returns an integer as the length of that string. \n",
    "\n",
    "#### Concatenation\n",
    "\n",
    "Concatenation, in the context of programming, is the operation of joining two strings together. The term \"concatenation\" literally means to merge two things together. \n",
    "\n",
    "#### Upper\n",
    "\n",
    "The upper() method converts all lowercase characters in a string into uppercase characters and returns it.\n",
    "\n",
    "#### Lower\n",
    "\n",
    "The lower() method returns a string where all characters are lower case. Symbols and Numbers are ignored.\n",
    "\n",
    "#### Traversing Strings\n",
    "\n",
    "For strings this means that we would like to process one character at a time. Often we start at the beginning, select each character in turn, do something to it, and continue until the end. This pattern of processing is called a traversal.\n",
    "\n",
    "#### Python If\n",
    "\n",
    "If statements are logical blocks used within programming. They're conditional statements that tell a computer what to do with certain information. In other words, they let a program make 'decisions' while it's running. They're comprised of a minimum of two parts, 'if' and 'then'.\n",
    "\n",
    "#### Elif\n",
    "\n",
    "In Python, elif is short for \"else if\" and is used when the first if statement isn't true, but you want to check for another condition. Meaning, if statements pair up with elif and else statements to perform a series of checks.\n",
    "\n",
    "#### Else conditionals\n",
    "\n",
    "Use if to specify a block of code to be executed, if a specified condition is true. Use else to specify a block of code to be executed, if the same condition is false. Use else if to specify a new condition to test, if the first condition is false.\n",
    "\n",
    "#### Nested Selection Statements\n",
    "\n",
    "Nested selection structures are used when more than one decision must be made before carrying out a task. Nesting is a programming activity, in which one program block is placed inside other program block of the same operation type.\n",
    "\n",
    "#### Python For\n",
    "\n",
    "A \"For\" Loop is used to repeat a specific block of code a known number of times. For example, if we want to check the grade of every student in the class, we loop from 1 to that number. When the number of times is not known before hand, we use a \"While\" loop.\n",
    "\n",
    "#### While loops with Range\n",
    "\n",
    "It can. You never change the value of x so it's always in the range. What does \"use a while loop on a range\" even mean? If it means \"iterate over the range\", then the answer is \"because that's what for loops are for\".\n",
    "\n",
    "#### While loops with List\n",
    "\n",
    "You can loop through the list items by using a while loop. Use the len() function to determine the length of the list, then start at 0 and loop your way through the list items by referring to their indexes.\n",
    "\n",
    "#### Combining loops with conditionals to Break\n",
    "\n",
    "Within the for loop, there is an if statement that presents the condition that if the variable number is equivalent to the integer 5, then the loop will break. Within the loop is also a print() statement that will execute with each iteration of the for loop until the loop breaks, since it is after the break statement.\n",
    "\n",
    "#### Continue\n",
    "\n",
    "Break statement stops the entire process of the loop. Continue statement only stops the current iteration of the loop. Break also terminates the remaining iterations. Continue doesn't terminate the next iterations; it resumes with the successive iterations.\n",
    "\n",
    "#### Procedural Abstraction\n",
    "\n",
    "Procedural abstraction is when we write code sections which are generalised by having variable parameters. The idea is that we have code which can cope with a variety of different situations, depending on how its parameters are set when it is called.\n",
    "\n",
    "#### Python Def procedures\n",
    "\n",
    "A Function is a series of Python statements begins by a def , followed by the function name and enclosed in parenthesis. A Function may or may not return a value. A Function procedure can take arguments (constants, variables, or expressions that are passed by a calling procedure).\n",
    "\n",
    "#### Parameters\n",
    "\n",
    "A parameter is a named variable passed into a function. Parameter variables are used to import arguments into functions. For example: function example(parameter) { console.\n",
    "\n",
    "#### Return Values\n",
    "\n",
    "A return is a value that a function returns to the calling script or function when it completes its task. A return value can be any one of the four variable types: handle, integer, object, or string. The type of value your function returns depends largely on the task it performs.\n",
    "\n",
    "## Code Examples\n"
   ]
  },
  {
   "cell_type": "code",
   "execution_count": 3,
   "metadata": {},
   "outputs": [
    {
     "name": "stdout",
     "output_type": "stream",
     "text": [
      "42\n",
      "42\n",
      "15\n"
     ]
    }
   ],
   "source": [
    "num1 = 15\n",
    "num2 = 25\n",
    "num3 = 42\n",
    "num2 = num3\n",
    "num3 = num1\n",
    "num1 = num2\n",
    "\n",
    "print(num1)\n",
    "print(num2)\n",
    "print(num3)"
   ]
  },
  {
   "cell_type": "code",
   "execution_count": 4,
   "metadata": {},
   "outputs": [
    {
     "name": "stdout",
     "output_type": "stream",
     "text": [
      "42\n",
      "84\n",
      "4284\n",
      "126\n"
     ]
    }
   ],
   "source": [
    "num2 += num1\n",
    "print(num1)\n",
    "print(num2)\n",
    "\n",
    "print(str(num1)+ str(num2))\n",
    "print(num1 + num2)"
   ]
  },
  {
   "cell_type": "code",
   "execution_count": 5,
   "metadata": {},
   "outputs": [
    {
     "name": "stdout",
     "output_type": "stream",
     "text": [
      "['pink', 'yellow', 'green', 'blue', 'orange']\n",
      "['black', 'blue', 'orange', 'yellow', 'purple', 'green', 'pink']\n"
     ]
    }
   ],
   "source": [
    "colorsList=[\"pink\", \"yellow\", \"green\", \"blue\", \"orange\"]\n",
    "\n",
    "print(colorsList)\n",
    "\n",
    "colorsList=[] # can be used if you want to create a list that can be filled with values later\n",
    "\n",
    "# copy of the list is made; the list isn't sorted in place\n",
    "def Reverse(lst): # defining variable: lst \n",
    "    new_lst = lst[::-1] \n",
    "    return new_lst\n",
    " \n",
    "lst = [\"pink\", \"green\", \"purple\", \"yellow\", \"orange\", \"blue\", \"black\"]\n",
    "print(Reverse(lst)) # reverse 1st"
   ]
  },
  {
   "cell_type": "code",
   "execution_count": 6,
   "metadata": {},
   "outputs": [
    {
     "name": "stdout",
     "output_type": "stream",
     "text": [
      "To be or not to be?\n",
      "What's your name?\n",
      "How was break?\n",
      "Is this homework?\n",
      "Final score: 4\n"
     ]
    }
   ],
   "source": [
    "questions = 3\n",
    "correct = 0\n",
    "\n",
    "# Use a dictionary for the questions\n",
    "quesList = [\"To be or not to be?\", \"What's your name?\", \"How was break?\", \"Is this homework?\"]\n",
    "\n",
    "# Use a dictionary for the correct solutions\n",
    "soluList = [\"idk\", \"mani\", \"fine\", \"yea\"]\n",
    "\n",
    "for i in quesList:\n",
    "    print(i)\n",
    "    \n",
    "value1 = input (\"Q1\")\n",
    "value2 = input (\"Q2\")\n",
    "value3 = input (\"Q3\")\n",
    "value4 = input (\"Q4\")\n",
    "\n",
    "for n in soluList: \n",
    "    if value1 == n:\n",
    "        correct += 1\n",
    "        \n",
    "for x in soluList: \n",
    "    if value2 == x:\n",
    "        correct += 1\n",
    "    \n",
    "for z in soluList: \n",
    "    if value3 == z:\n",
    "        correct += 1\n",
    "    \n",
    "for y in soluList: \n",
    "    if value4 == y:\n",
    "        correct += 1\n",
    "\n",
    "print(\"Final score: \" + str(correct))"
   ]
  },
  {
   "cell_type": "code",
   "execution_count": 8,
   "metadata": {},
   "outputs": [
    {
     "name": "stdout",
     "output_type": "stream",
     "text": [
      "0\n"
     ]
    }
   ],
   "source": [
    "Num1 = 10\n",
    "Num2 = Num1 % 3 * 4\n",
    "Num1 = Num2\n",
    "Num3 = Num1 * 3\n",
    "Result = Num3 % 2\n",
    "print(Result)"
   ]
  },
  {
   "cell_type": "code",
   "execution_count": 9,
   "metadata": {},
   "outputs": [
    {
     "name": "stdout",
     "output_type": "stream",
     "text": [
      "straightbrownshort\n"
     ]
    }
   ],
   "source": [
    "type = \"curly\"\n",
    "color = \"brown\"\n",
    "length = \"short\"\n",
    "type = \"straight\"\n",
    "hair = type + color + length\n",
    "print(hair)"
   ]
  },
  {
   "cell_type": "code",
   "execution_count": 1,
   "metadata": {},
   "outputs": [
    {
     "name": "stdout",
     "output_type": "stream",
     "text": [
      "['hockey', 'soccer', 'baseball', 'basketball']\n"
     ]
    }
   ],
   "source": [
    "sports = [\"football\", \"soccer\", \"baseball\", \"basketball\"]\n",
    "index = 0\n",
    "# change the value \"soccer\" to \"hockey\"\n",
    "sports.remove(sports[index])\n",
    "sports.insert(0, \"hockey\")\n",
    "print(sports)"
   ]
  },
  {
   "cell_type": "code",
   "execution_count": 2,
   "metadata": {},
   "outputs": [
    {
     "name": "stdout",
     "output_type": "stream",
     "text": [
      "bravo\n",
      "alfa\n",
      "tango\n",
      "mike\n",
      "alfa\n",
      "november\n"
     ]
    }
   ],
   "source": [
    "words = [\"alfa\", \"bravo\", \"charlie\", \"delta\", \"echo\", \"foxtrot\", \"golf\", \"hotel\", \"india\", \"juliett\", \"kilo\",\n",
    "\"lima\", \"mike\", \"november\", \"oscar\", \"papa\", \"quebec\", \"romeo\", \"sierra\", \"tango\", \"uniform\", \"victor\", \"whiskey\", \"xray\", \"yankee\", \"zulu\"]\n",
    "\n",
    "index = 0\n",
    "inp = input().lower()\n",
    "def show_letters(inp):\n",
    "    for letter in inp:\n",
    "        for let in words:\n",
    "            if letter == let[index]:\n",
    "                print(let)\n",
    "show_letters(inp)\n"
   ]
  },
  {
   "cell_type": "code",
   "execution_count": 3,
   "metadata": {},
   "outputs": [
    {
     "name": "stdout",
     "output_type": "stream",
     "text": [
      "1 2 3\n",
      "4 5 6\n",
      "7 8 9\n",
      "  0  \n"
     ]
    }
   ],
   "source": [
    "keypad = [[1, 2, 3], [4, 5, 6], [7, 8, 9], [\" \", 0, \" \"]]\n",
    "\n",
    "def print_matrix3(matrix):\n",
    "    for a in matrix:\n",
    "        itr = iter(a)\n",
    "        print(next(itr), next(itr), next(itr))\n",
    "        \n",
    "print_matrix3(keypad)"
   ]
  },
  {
   "cell_type": "code",
   "execution_count": 4,
   "metadata": {},
   "outputs": [
    {
     "name": "stdout",
     "output_type": "stream",
     "text": [
      "Mani\n",
      "May\n",
      "18\n"
     ]
    }
   ],
   "source": [
    "letters = [[\"`\", 1, 2, 3, 4, 5, 6, 7, 8, 9, 0, \"-\", \"=\"],\n",
    "            [\"Q\", \"W\", \"E\", \"R\", \"T\", \"Y\", \"U\", \"I\", \"O\", \"P\", \"[\", \"]\"],\n",
    "            [\"A\", \"S\", \"D\", \"F\", \"G\", \"H\", \"J\", \"K\", \"L\", \";\", \"'\"],\n",
    "            [\"Z\", \"X\", \"C\", \"V\", \"B\", \"N\", \"M\", \",\", \".\", \"/\"]]\n",
    "\n",
    "letters_lower1 = [letter.lower() for letter in letters[1]]               # additional lines of code for better capitalization\n",
    "letters_lower2 = [letter.lower() for letter in letters[2]]\n",
    "letters_lower3 = [letter.lower() for letter in letters[3]]\n",
    "\n",
    "print(letters[3][6] + letters_lower2[0] + letters_lower3[5] + letters_lower1[7])\n",
    "print(letters[3][6] + letters_lower2[0] + letters_lower1[5])\n",
    "print(letters[0][9] + letters[0][9])"
   ]
  },
  {
   "cell_type": "code",
   "execution_count": 5,
   "metadata": {},
   "outputs": [
    {
     "name": "stdout",
     "output_type": "stream",
     "text": [
      "100 == 100: True\n",
      "Hello == Adios: False\n",
      "Hello != Adios: True\n",
      "Hello == Hola: True\n",
      "5>=4: True\n",
      "\n",
      "['a','b','c'] > ['x','y','z']: False\n",
      "[1,2,3,5] > [1,2,3,4]: True\n",
      "[1,2,3,5] < [1,2,3,4]: False\n",
      "[1,2,3,5] == [1,2,3,4]: False\n"
     ]
    }
   ],
   "source": [
    "print(\"100 == 100:\",100==100)\n",
    "print(\"Hello == Adios:\",\"greeting\"==\"farewell\")\n",
    "print(\"Hello != Adios:\",\"greeting\"!=\"farewell\")\n",
    "print(\"Hello == Hola:\",\"greeting\"==\"greeting\")\n",
    "print(\"5>=4:\", 5>=4)\n",
    "print ('')\n",
    "\n",
    "# Notice that relational operators can even work on lists!\n",
    "# For lists, the relational operator compares each respective component until an answer is derived\n",
    "\n",
    "print(\"['a','b','c'] > ['x','y','z']:\", ['a','b','c'] > ['x','y','z'])\n",
    "print(\"[1,2,3,5] > [1,2,3,4]:\", [1,2,3,5] > [1,2,3,4])\n",
    "print(\"[1,2,3,5] < [1,2,3,4]:\", [1,2,3,5] < [1,2,3,4])\n",
    "print(\"[1,2,3,5] == [1,2,3,4]:\", [1,2,3,5] == [1,2,3,4])"
   ]
  },
  {
   "cell_type": "code",
   "execution_count": 6,
   "metadata": {},
   "outputs": [
    {
     "name": "stdout",
     "output_type": "stream",
     "text": [
      "1 > 2 or 5 < 12: True\n",
      "24 > 8: False\n",
      "10 > 20: False\n"
     ]
    }
   ],
   "source": [
    "# Output TRUE  using OR\n",
    "print(\"1 > 2 or 5 < 12:\", 1 > 2 or 5 < 12)\n",
    "# Output TRUE  using OR ^\n",
    "\n",
    "\n",
    "# Output FALSE using NOT\n",
    "print(\"24 > 8:\", not 24 > 8)\n",
    "\n",
    "# Output FALSE using AND\n",
    "print(\"10 > 20:\", 10 > 20 and False)"
   ]
  },
  {
   "cell_type": "code",
   "execution_count": 7,
   "metadata": {},
   "outputs": [
    {
     "name": "stdout",
     "output_type": "stream",
     "text": [
      "this is a regular product\n"
     ]
    }
   ],
   "source": [
    "cost = 30\n",
    "stat = 1       \n",
    "if stat < 1:\n",
    "    print(\"this product is no good\") \n",
    "else:\n",
    "    if cost > 50 and stat == 1:\n",
    "        print(\"this product is too expensive\") \n",
    "    else:\n",
    "        if 50 > cost > 25 and stat == 1:\n",
    "            print(\"this is a regular product\")\n",
    "        else:\n",
    "            print(\"this is a cheap product\")"
   ]
  },
  {
   "cell_type": "code",
   "execution_count": 10,
   "metadata": {},
   "outputs": [
    {
     "name": "stdout",
     "output_type": "stream",
     "text": [
      "Ready for a movie quiz?\n",
      "Which movie is a comedy?\n",
      "a. The King's Man b. What's eating Gilbert Grape c. About Time d. Batman\n",
      "Which movie features 50 Cent?\n",
      "a. Shaft b. 8 Mile c. Southpaw d. Batman\n",
      "Who is the best Batman?\n",
      "a. Christian Bale b. Ben Affleck c. Robert Pattinson d. Kevin Conroy\n",
      "Final Score: 3\n"
     ]
    }
   ],
   "source": [
    "questions = {\n",
    "    \"Which movie is a comedy?\":[\"a. The King's Man\",\"b. What's eating Gilbert Grape\", \"c. About Time\", \"d. Batman\"], \n",
    "    \"Which movie features 50 Cent?\":[\"a. Shaft\", \"b. 8 Mile\",\"c. Southpaw\", \"d. Batman\"], \n",
    "    \"Who is the best Batman?\":[\"a. Christian Bale\",\"b. Ben Affleck\", \"c. Robert Pattinson\", \"d. Kevin Conroy\"]\n",
    "    }\n",
    "\n",
    "answers = {\n",
    "    \"Which movie is a comedy?\":\"c\", \n",
    "    \"Which movie features 50 Cent?\":\"c\", \n",
    "    \"Who is the best Batman?\":\"d\"\n",
    "    }\n",
    "\n",
    "score = 0\n",
    "\n",
    "print(\"Ready for a movie quiz?\")\n",
    "\n",
    "for q,a in questions.items():\n",
    "\n",
    "    print(q)\n",
    "    print(*a)\n",
    "\n",
    "    inp = input(\"Enter Your Answer\")\n",
    "\n",
    "    if(answers.get(q)==inp):\n",
    "        score = score +1\n",
    "    else:\n",
    "        print(\"SYNTAX ERROR...jk try again\")\n",
    "        break\n",
    "\n",
    "print('Final Score:', score)  "
   ]
  },
  {
   "cell_type": "code",
   "execution_count": 11,
   "metadata": {},
   "outputs": [
    {
     "name": "stdout",
     "output_type": "stream",
     "text": [
      "4\n",
      "continue?y/n\n",
      "18\n",
      "continue?y/n\n",
      "8\n",
      "Your Score: 18\n"
     ]
    }
   ],
   "source": [
    "import random       # module for generating random item from a list\n",
    "\n",
    "nums = list(range(1, 21))       # list of numbers\n",
    "\n",
    "num1 = int(random.choice(nums))     # int takes the integer, random utilizes the module\n",
    "num2 = int(random.choice(nums))     # the three numbers are generated here\n",
    "num3 = int(random.choice(nums))\n",
    "\n",
    "def end():          # procedure for endgame \n",
    "    print(\"Okay I guess\")\n",
    "\n",
    "rd = input(\"Are you ready? y/n\")        # useless prompt to initiate the game       \n",
    "\n",
    "if rd == \"y\":  \n",
    "    print(num1)\n",
    "    print(\"continue?y/n\")       # basically a checkpoint\n",
    "    cn = input()\n",
    "    if cn == \"y\":\n",
    "        print(num2)\n",
    "        print(\"continue?y/n\")\n",
    "        cn2 = input()\n",
    "        if cn2 == \"y\":\n",
    "            print(num3)\n",
    "            if num1 > num2 and num1 > num3:         # checks if num1 is the greatest\n",
    "                print(\"Your Score:\" , num1)\n",
    "            else:\n",
    "                if num2 > num1 and num2 > num3:         # checks if num2 is the greatest\n",
    "                    print(\"Your Score:\" , num2)\n",
    "                else:\n",
    "                    if num3 > num1 and num3 > num2:         # checks if num3 is the greatest\n",
    "                        print(\"Your Score:\" , num3)\n",
    "        else:\n",
    "            end()\n",
    "    else:\n",
    "        end()\n",
    "else:\n",
    "    end()"
   ]
  }
 ],
 "metadata": {
  "kernelspec": {
   "display_name": "Python 3.9.12 ('base')",
   "language": "python",
   "name": "python3"
  },
  "language_info": {
   "codemirror_mode": {
    "name": "ipython",
    "version": 3
   },
   "file_extension": ".py",
   "mimetype": "text/x-python",
   "name": "python",
   "nbconvert_exporter": "python",
   "pygments_lexer": "ipython3",
   "version": "3.9.12 (main, Apr  5 2022, 06:56:58) \n[GCC 7.5.0]"
  },
  "orig_nbformat": 4,
  "vscode": {
   "interpreter": {
    "hash": "33c078916551e7df06d6239c31e0a5ca0c0782cc8455a487fd402e7e7dd73d0b"
   }
  }
 },
 "nbformat": 4,
 "nbformat_minor": 2
}
