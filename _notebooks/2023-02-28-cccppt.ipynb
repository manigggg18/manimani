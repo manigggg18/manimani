{
 "cells": [
  {
   "attachments": {},
   "cell_type": "markdown",
   "metadata": {},
   "source": [
    "# Create Performance Task\n",
    " \n",
    "- title: Create Performance Task\n",
    "- branch: master\n",
    "- badges: true\n",
    "- comments: true\n",
    "- permalink: /cccppt\n",
    "- categories: [jupyter]"
   ]
  },
  {
   "attachments": {},
   "cell_type": "markdown",
   "metadata": {},
   "source": [
    "# A \n",
    "\n",
    "> [Video](https://drive.google.com/file/d/1Gik60p-hY424T5f2ovIHNl11N9Nu7F2i/view?usp=sharing)\n",
    "\n",
    "### 3ai\n",
    "\n",
    "The purpose of this program is to create a system where the highest score of each user is stored and displayed using a table. \n",
    "\n",
    "### 3aii\n",
    "\n",
    "The video demonstrates a user (Jay) gaining a score. If the score is their highest score, it will be added to the table. Since they gained a higher score than they previously did, their score was added to the table. \n",
    "\n",
    "### 3aiii\n",
    "\n",
    "The input demonstrated in the video is the user's score that they will gain at the end of the game. The output is the highest score stored in the table.  \n",
    "\n",
    "# B\n",
    "\n",
    "### 3bi"
   ]
  },
  {
   "cell_type": "code",
   "execution_count": null,
   "metadata": {},
   "outputs": [],
   "source": [
    "highscore1 = Highscore(username='sreeja', hscore=7)\n",
    "highscore2 = Highscore(username='ekam', hscore=7)\n",
    "highscore3 = Highscore(username='tirth', hscore=7)\n",
    "highscore4 = Highscore(username='mani', hscore=7)\n",
    "highscores = [highscore1, highscore2, highscore3, highscore4]"
   ]
  },
  {
   "attachments": {},
   "cell_type": "markdown",
   "metadata": {},
   "source": [
    "### 3bii"
   ]
  },
  {
   "cell_type": "code",
   "execution_count": null,
   "metadata": {},
   "outputs": [],
   "source": [
    "\"\"\"Builds sample user/note(s) data\"\"\"\n",
    "for highscore in highscores:\n",
    "    try:\n",
    "        highscore.create()\n",
    "    except IntegrityError:\n",
    "        '''fails with bad or duplicate data'''\n",
    "        db.session.remove()\n",
    "        print(f\"Records exist, duplicate email, or error: {highscore.username}\")"
   ]
  },
  {
   "attachments": {},
   "cell_type": "markdown",
   "metadata": {},
   "source": [
    "### 3biii\n",
    "\n",
    "The program includes a list named \"highscores,\" which contains 4 users and their high scores. The provided code snippet employs a for loop to traverse through the list and execute the create method from the \"Highscore\" class. This creates a new entry for each \"highscore\" in the SQL table labelled \"highscores\". This functionality is crucial since it allows the program to generate a database with data that can be sorted using SQLalchemy functions. As a result, a table of high scores can be generated, which can be accessed through a get request.\n",
    "\n",
    "### 3biv\n",
    "\n",
    "The data in the list represents users and their single highest core.\n",
    "\n",
    "### 3bv\n",
    "\n",
    "# C\n",
    "\n",
    "### 3ci"
   ]
  },
  {
   "cell_type": "code",
   "execution_count": null,
   "metadata": {},
   "outputs": [],
   "source": [
    "def create(self):\n",
    "    try:\n",
    "        db.session.add(self)\n",
    "        db.session.commit()\n",
    "        return self\n",
    "    except IntegrityError:\n",
    "        db.session.remove()\n",
    "        return None"
   ]
  },
  {
   "attachments": {},
   "cell_type": "markdown",
   "metadata": {},
   "source": [
    "### 3cii"
   ]
  },
  {
   "cell_type": "code",
   "execution_count": null,
   "metadata": {},
   "outputs": [],
   "source": [
    "def initHighscores():\n",
    "    with app.app_context():\n",
    "        \"\"\"Create database and tables\"\"\"\n",
    "        db.init_app(app)\n",
    "        db.create_all()"
   ]
  },
  {
   "attachments": {},
   "cell_type": "markdown",
   "metadata": {},
   "source": [
    "### 3ciii\n",
    "\n",
    "The \"create\" function is being called as a method of an object, where it adds itself to the session, commits the changes to the database, and returns itself if successful. If there is an integrity error, it removes the session and returns None. In the \"initHighscores\" function, the database is initialized and tables are created using the Flask app context and the SQLAlchemy library's \"create_all\" method.\n",
    "\n",
    "### 3civ\n",
    "\n",
    "This algorithm creates an instance of a class and adds it to a database session. If the session commit fails due to an IntegrityError, the session is removed and the function returns None. Additionally, it initializes a Flask app context and creates a database and its tables using SQLAlchemy.\n",
    "\n",
    "# D\n",
    "\n",
    "### 3di\n",
    "\n",
    "![img1](https://github.com/manigggg18/manimani/blob/master/images/mpng.png?raw=true)\n",
    "\n",
    "---\n",
    "\n",
    "![img2](https://github.com/manigggg18/manimani/blob/master/images/mmmmm.png?raw=true)\n",
    "\n",
    "### 3dii\n",
    "\n",
    "The first call checks if the user's score will be added to the table since they got the highest score possible.\n",
    "\n",
    "The second call checks that the user's score does not get added since it is the user's lowest score.\n",
    "\n",
    "### 3diii\n",
    "\n",
    "The user's score gets added to the \"highscores\" table in the first call, while the user's score does not get added to the \"highscores\" table in the second call"
   ]
  }
 ],
 "metadata": {
  "kernelspec": {
   "display_name": "Python 3",
   "language": "python",
   "name": "python3"
  },
  "language_info": {
   "name": "python",
   "version": "3.8.10"
  },
  "orig_nbformat": 4,
  "vscode": {
   "interpreter": {
    "hash": "916dbcbb3f70747c44a77c7bcd40155683ae19c65e1c03b4aa3499c5328201f1"
   }
  }
 },
 "nbformat": 4,
 "nbformat_minor": 2
}
