{
 "cells": [
  {
   "attachments": {},
   "cell_type": "markdown",
   "metadata": {},
   "source": [
    "# Create Performance Task\n",
    " \n",
    "- title: Create Performance Task\n",
    "- branch: master\n",
    "- badges: true\n",
    "- comments: true\n",
    "- permalink: /cccppt\n",
    "- categories: [jupyter]"
   ]
  },
  {
   "attachments": {},
   "cell_type": "markdown",
   "metadata": {},
   "source": [
    "# A\n",
    "\n",
    "### 3ai\n",
    "\n",
    "The purpose of this program is to create a system where the highest score of each user is stored and displayed using a table. \n",
    "\n",
    "### 3aii\n",
    "\n",
    "### 3aiii\n",
    "\n",
    "# B\n",
    "\n",
    "### 3bi"
   ]
  },
  {
   "cell_type": "code",
   "execution_count": null,
   "metadata": {},
   "outputs": [],
   "source": [
    "highscore1 = Highscore(username='sreeja', hscore=7)\n",
    "highscore2 = Highscore(username='ekam', hscore=7)\n",
    "highscore3 = Highscore(username='tirth', hscore=7)\n",
    "highscore4 = Highscore(username='mani', hscore=7)\n",
    "highscores = [highscore1, highscore2, highscore3, highscore4]"
   ]
  },
  {
   "attachments": {},
   "cell_type": "markdown",
   "metadata": {},
   "source": [
    "### 3bii"
   ]
  },
  {
   "cell_type": "code",
   "execution_count": null,
   "metadata": {},
   "outputs": [],
   "source": [
    "\"\"\"Builds sample user/note(s) data\"\"\"\n",
    "for highscore in highscores:\n",
    "    try:\n",
    "        highscore.create()\n",
    "    except IntegrityError:\n",
    "        '''fails with bad or duplicate data'''\n",
    "        db.session.remove()\n",
    "        print(f\"Records exist, duplicate email, or error: {highscore.username}\")"
   ]
  },
  {
   "attachments": {},
   "cell_type": "markdown",
   "metadata": {},
   "source": [
    "### 3biii\n",
    "\n",
    "The program includes a list named \"highscores,\" which contains 4 users and their high scores. The provided code snippet employs a for loop to traverse through the list and execute the create method from the \"Highscore\" class. This creates a new entry for each \"highscore\" in the SQL table labelled \"highscores\". This functionality is crucial since it allows the program to generate a database with data that can be sorted using SQLalchemy functions. As a result, a table of high scores can be generated, which can be accessed through a get request.\n",
    "\n",
    "### 3biv\n",
    "\n",
    "The data in the list represents users and their single highest core.\n",
    "\n",
    "### 3bv\n",
    "\n",
    "# C\n",
    "\n",
    "### 3ci"
   ]
  },
  {
   "cell_type": "code",
   "execution_count": null,
   "metadata": {},
   "outputs": [],
   "source": [
    "def create(self):\n",
    "    try:\n",
    "        db.session.add(self)\n",
    "        db.session.commit()\n",
    "        return self\n",
    "    except IntegrityError:\n",
    "        db.session.remove()\n",
    "        return None"
   ]
  },
  {
   "attachments": {},
   "cell_type": "markdown",
   "metadata": {},
   "source": [
    "### 3cii"
   ]
  },
  {
   "cell_type": "code",
   "execution_count": null,
   "metadata": {},
   "outputs": [],
   "source": [
    "def initHighscores():\n",
    "    with app.app_context():\n",
    "        \"\"\"Create database and tables\"\"\"\n",
    "        db.init_app(app)\n",
    "        db.create_all()"
   ]
  },
  {
   "attachments": {},
   "cell_type": "markdown",
   "metadata": {},
   "source": [
    "### 3ciii\n",
    "\n",
    "This code defines a method called create that attempts to add an instance of the current class to a database session and commit it. If there is an IntegrityError (e.g., due to violating a unique constraint), it removes the session and returns None. If successful, it returns the newly created instance."
   ]
  },
  {
   "cell_type": "code",
   "execution_count": null,
   "metadata": {},
   "outputs": [],
   "source": []
  }
 ],
 "metadata": {
  "kernelspec": {
   "display_name": "Python 3",
   "language": "python",
   "name": "python3"
  },
  "language_info": {
   "name": "python",
   "version": "3.8.10"
  },
  "orig_nbformat": 4,
  "vscode": {
   "interpreter": {
    "hash": "916dbcbb3f70747c44a77c7bcd40155683ae19c65e1c03b4aa3499c5328201f1"
   }
  }
 },
 "nbformat": 4,
 "nbformat_minor": 2
}
