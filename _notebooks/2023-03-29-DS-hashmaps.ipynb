{
 "cells": [
  {
   "attachments": {},
   "cell_type": "markdown",
   "metadata": {},
   "source": [
    "#  Data Structures- Hashmaps, Sets, Hash Tables, Hashing and Collisions\n",
    "> Observing hashmaps with python dictionaries\n",
    "- toc: true\n",
    "- permalink: /hmap\n",
    "- categories: [jupyter]"
   ]
  },
  {
   "attachments": {},
   "cell_type": "markdown",
   "metadata": {},
   "source": [
    "## What is a Hashtable/Hashmap?\n",
    "\n",
    "> A hashtable is a data structure that with a collection of key-value pairs, where each key maps to a value, and the keys must be unique and hashable.\n",
    "\n",
    "- In Python there is a built in hashtable known as a **dictionary**.\n",
    "\n",
    "> The primary purpose of a hashtable is to provide efficient lookup, insertion, and deletion operations. When an element is to be inserted into the hashtable, a hash function is used to map the key to a specific index in the underlying array that is used to store the key-value pairs. The value is then stored at that index. When searching for a value, the hash function is used again to find the index where the value is stored.\n",
    "\n",
    "> The key advantage of a hashtable over other data structures like arrays and linked lists is its average-case time complexity for lookup, insertion, and deletion operations.\n",
    "\n",
    "- The typical time complexity of a hashtable is **0(1)**. \n"
   ]
  },
  {
   "attachments": {},
   "cell_type": "markdown",
   "metadata": {},
   "source": [
    "## What is Hashing and Collision?\n",
    "\n",
    "> Hashing is the process of mapping a given key to a value in a hash table or hashmap, using a hash function. The hash function takes the key as input and produces a hash value or hash code, which is then used to determine the index in the underlying array where the value is stored. The purpose of hashing is to provide a quick and efficient way to access data, by eliminating the need to search through an entire data structure to find a value.\n",
    "\n",
    "> However, it is possible for two different keys to map to the same hash value, resulting in a collision. When a collision occurs, there are different ways to resolve it, depending on the collision resolution strategy used.\n",
    "\n",
    "> Python's dictionary implementation is optimized to handle collisions efficiently, and the performance of the dictionary is generally very good, even in the presence of collisions. However, if the number of collisions is very high, the performance of the dictionary can degrade, so it is important to choose a good hash function that minimizes collisions when designing a Python dictionary.\n",
    "\n",
    "## What is a Set?"
   ]
  },
  {
   "cell_type": "code",
   "execution_count": null,
   "metadata": {},
   "outputs": [],
   "source": [
    "# Creating a set using set() function\n",
    "my_set = set([1, 2, 3, 2, 1])\n",
    "print(my_set)  \n",
    "\n",
    "# What do you notice in the output?\n",
    "#\n",
    "#\n",
    "\n",
    "# Why do you think Sets are in the same tech talk as Hashmaps/Hashtables?\n",
    "#\n",
    "#"
   ]
  },
  {
   "attachments": {},
   "cell_type": "markdown",
   "metadata": {},
   "source": [
    "- **The `set()` function got rid of the duplicates.**"
   ]
  },
  {
   "attachments": {},
   "cell_type": "markdown",
   "metadata": {},
   "source": [
    "### What do you notice in the output?\n",
    "\n",
    "**The code creates a set object named \"my_set\" containing the elements [1, 2, 3, 2, 1]. Since sets cannot contain duplicate elements, the duplicates are automatically removed, and the output of the print statement shows the unique elements of the set in no particular order.**\n",
    "\n",
    "### Why do you think Sets are in the same tech talk as Hashmaps/Hashtables?\n",
    "\n",
    "**Hash tables are used to implement dictionaries and sets in many programming languages. A hash table is a data structure that allows for efficient lookup, insertion, and deletion of elements by computing an index into an array using a hash function. Similarly, a set is a collection of unique elements, and it can be implemented as a hash table where each element is hashed to a unique index in the table.**\n"
   ]
  },
  {
   "attachments": {},
   "cell_type": "markdown",
   "metadata": {},
   "source": [
    "## Dictionary Example\n",
    "\n",
    "Below are just some basic features of a dictionary. As always, documentation is always the main source for all the full capablilties. "
   ]
  },
  {
   "cell_type": "code",
   "execution_count": null,
   "metadata": {},
   "outputs": [],
   "source": [
    "# Creating a dictionary with information about the album \"Lover\"\n",
    "lover_album = {\n",
    "    \"title\": \"Lover\",\n",
    "    \"artist\": \"Taylor Swift\",\n",
    "    \"year\": 2019,\n",
    "    \"genre\": [\"Pop\", \"Synth-pop\"],\n",
    "    \"tracks\": {\n",
    "        1: \"I Forgot That You Existed\",\n",
    "        2: \"Cruel Summer\",\n",
    "        3: \"Lover\",\n",
    "        4: \"The Man\",\n",
    "        5: \"The Archer\",\n",
    "        6: \"I Think He Knows\",\n",
    "        7: \"Miss Americana & The Heartbreak Prince\",\n",
    "        8: \"Paper Rings\",\n",
    "        9: \"Cornelia Street\",\n",
    "        10: \"Death By A Thousand Cuts\",\n",
    "        11: \"London Boy\",\n",
    "        12: \"Soon You'll Get Better (feat. Dixie Chicks)\",\n",
    "        13: \"False God\",\n",
    "        14: \"You Need To Calm Down\",\n",
    "        15: \"Afterglow\",\n",
    "        16: \"Me! (feat. Brendon Urie of Panic! At The Disco)\",\n",
    "        17: \"It's Nice To Have A Friend\",\n",
    "        18: \"Daylight\"\n",
    "    }\n",
    "}\n",
    "\n",
    "# What data structures do you see?\n",
    "#\n",
    "#\n",
    "\n",
    "# Printing the dictionary\n",
    "print(lover_album)"
   ]
  },
  {
   "attachments": {},
   "cell_type": "markdown",
   "metadata": {},
   "source": [
    "### What data structures do you see?\n",
    "\n",
    "**The code contains a dictionary data structure named \"lover_album\", which has various keys and values, including a list (\"genre\") and another nested dictionary (\"tracks\").**"
   ]
  },
  {
   "attachments": {},
   "cell_type": "markdown",
   "metadata": {},
   "source": [
    "- **Lists and dictionaries.**\n",
    "  \n",
    "  - **Genre(s)**\n",
    "  - **Track(s)**"
   ]
  },
  {
   "cell_type": "code",
   "execution_count": null,
   "metadata": {},
   "outputs": [],
   "source": [
    "# Retrieve value from dictionary with key\n",
    "print(lover_album.get('tracks'))\n",
    "# or\n",
    "print(lover_album['tracks'])"
   ]
  },
  {
   "cell_type": "code",
   "execution_count": null,
   "metadata": {},
   "outputs": [],
   "source": [
    "# Retrieve value from a dictionary inside a dictionary\n",
    "print(lover_album.get('tracks')[4])\n",
    "# or\n",
    "print(lover_album['tracks'][4])"
   ]
  },
  {
   "cell_type": "code",
   "execution_count": null,
   "metadata": {},
   "outputs": [],
   "source": [
    "# adding a value with a new key\n",
    "\n",
    "#lover_album[\"producer\"] = set(['Taylor Swift', 'Jack Antonoff', 'Joel Little', 'Taylor Swift', 'Louis Bell', 'Frank Dukes'])\n",
    "\n",
    "# What can you change to make sure there are no duplicate producers?\n",
    "\n",
    "lover_album[\"producer\"] = {producer for producer in ['Taylor Swift', 'Jack Antonoff', 'Joel Little', 'Taylor Swift', 'Louis Bell', 'Frank Dukes']}\n",
    "\n",
    "# Printing the dictionary\n",
    "print(lover_album)"
   ]
  },
  {
   "attachments": {},
   "cell_type": "markdown",
   "metadata": {},
   "source": [
    "### What can you change to make sure there are no duplicate producers?\n",
    "\n",
    "**We can use a set function.**"
   ]
  },
  {
   "cell_type": "code",
   "execution_count": null,
   "metadata": {},
   "outputs": [],
   "source": [
    "# Adding a an key-value pair to an existing key \n",
    "lover_album[\"tracks\"].update({19: \"All Of The Girls You Loved Before\"})\n",
    "\n",
    "# How would add an additional genre to the dictionary, like electropop? \n",
    "\n",
    "lover_album[\"genre\"].append(\"Electropop\")\n",
    "\n",
    "# Printing the dictionary\n",
    "print(lover_album)"
   ]
  },
  {
   "attachments": {},
   "cell_type": "markdown",
   "metadata": {},
   "source": [
    "### How would add an additional genre to the dictionary, like electropop? \n",
    "\n",
    "**Easily.**"
   ]
  },
  {
   "cell_type": "code",
   "execution_count": null,
   "metadata": {},
   "outputs": [],
   "source": [
    "# Print lover_album in more readable format\n",
    "for k,v in lover_album.items(): # iterate using a for loop for key and value\n",
    "    print(str(k) + \": \" + str(v))\n",
    "\n",
    "# Write your own code to print tracks in readable format"
   ]
  },
  {
   "attachments": {},
   "cell_type": "markdown",
   "metadata": {},
   "source": [
    "### Write your own code to print tracks in readable format"
   ]
  },
  {
   "cell_type": "code",
   "execution_count": null,
   "metadata": {},
   "outputs": [],
   "source": [
    "print(\"Tracks on the {} album by {}: \".format(lover_album[\"title\"], lover_album[\"artist\"]))\n",
    "for track_number, track_name in lover_album[\"tracks\"].items():\n",
    "    print(\"{}. {}\".format(track_number, track_name))"
   ]
  },
  {
   "cell_type": "code",
   "execution_count": null,
   "metadata": {},
   "outputs": [],
   "source": [
    "# Using conditionals to retrieve a random song\n",
    "def search():\n",
    "    search = input(\"What would you like to know about the album?\")\n",
    "    if lover_album.get(search.lower()) == None:\n",
    "        print(\"Invalid Search\")\n",
    "    else:\n",
    "        print(lover_album.get(search.lower()))\n",
    "\n",
    "search()\n",
    "\n",
    "# This is a very basic code segment, how can you improve upon this code?\n",
    "#\n",
    "#"
   ]
  },
  {
   "attachments": {},
   "cell_type": "markdown",
   "metadata": {},
   "source": [
    "### Improved Version of the Above Code\n",
    "\n",
    "**I used a different name for the function to avoid conflicts with the user input variable. I also passed the lover_album dictionary as an argument to the function instead of relying on a global variable.The function first converts the user input to lowercase using the lower() method, to avoid case-sensitivity issues. Then, it checks if the input key is present in the album dictionary using the in keyword. If it is, it prints the corresponding value. Otherwise, it prints an error message. Overall, this version is more robust, user-friendly, and follows better coding practices**"
   ]
  },
  {
   "cell_type": "code",
   "execution_count": null,
   "metadata": {},
   "outputs": [],
   "source": [
    "def search_album(album_dict):\n",
    "    search_key = input(\"What would you like to know about the album? \").lower()\n",
    "    if search_key in album_dict:\n",
    "        print(album_dict[search_key])\n",
    "    else:\n",
    "        print(\"Invalid search.\")\n",
    "\n",
    "search_album(lover_album)"
   ]
  },
  {
   "attachments": {},
   "cell_type": "markdown",
   "metadata": {},
   "source": [
    "## Hacks\n",
    "\n",
    "- Answer *ALL* questions in the code segments\n",
    "- Create a diagram or comparison illustration (Canva).\n",
    "    - What are the pro and cons of using this data structure? \n",
    "    - Dictionary vs List    \n",
    "- Expand upon the code given to you, possible improvements in comments\n",
    "- Build your own album showing features of a python dictionary\n",
    "\n",
    "- For Mr. Yeung's class: Justify your favorite Taylor Swift song, answer may effect seed\n",
    "\n",
    "**My favorite TS song is \"I Know Places\", because:**\n",
    "\n",
    "- **I don't know many of her songs.**\n",
    "\n",
    "- **It has a nice rhythm and beat.**"
   ]
  },
  {
   "attachments": {},
   "cell_type": "markdown",
   "metadata": {},
   "source": [
    "### Diagram\n",
    "\n",
    "![di](images/dia.png)"
   ]
  },
  {
   "attachments": {},
   "cell_type": "markdown",
   "metadata": {},
   "source": [
    "### My Album"
   ]
  },
  {
   "cell_type": "code",
   "execution_count": 6,
   "metadata": {},
   "outputs": [
    {
     "name": "stdout",
     "output_type": "stream",
     "text": [
      "{'title': 'Kid A', 'artist': 'Radiohead', 'year': 2000, 'genre': ['Electronic', 'Experimental'], 'tracks': {1: 'Everything In Its Right Place', 2: 'Kid A', 3: 'The National Anthem', 4: 'How To Disappear Completely', 5: 'Treefingers', 6: 'Optimistic', 7: 'In Limbo', 8: 'Idioteque', 9: 'Morning Bell', 10: 'Motion Picture Soundtrack'}}\n"
     ]
    }
   ],
   "source": [
    "kid_a_album = {\n",
    "    \"title\": \"Kid A\",\n",
    "    \"artist\": \"Radiohead\",\n",
    "    \"year\": 2000,\n",
    "    \"genre\": [\"Electronic\", \"Experimental\"],\n",
    "    \"tracks\": {\n",
    "        1: \"Everything In Its Right Place\",\n",
    "        2: \"Kid A\",\n",
    "        3: \"The National Anthem\",\n",
    "        4: \"How To Disappear Completely\",\n",
    "        5: \"Treefingers\",\n",
    "        6: \"Optimistic\",\n",
    "        7: \"In Limbo\",\n",
    "        8: \"Idioteque\",\n",
    "        9: \"Morning Bell\",\n",
    "        10: \"Motion Picture Soundtrack\"\n",
    "    }\n",
    "}\n",
    "\n",
    "print(kid_a_album)"
   ]
  },
  {
   "cell_type": "code",
   "execution_count": 7,
   "metadata": {},
   "outputs": [
    {
     "name": "stdout",
     "output_type": "stream",
     "text": [
      "{'title': 'OK Computer', 'artist': 'Radiohead', 'year': 1997, 'genre': ['Alternative rock', 'Art rock'], 'tracks': {1: 'Airbag', 2: 'Paranoid Android', 3: 'Subterranean Homesick Alien', 4: 'Exit Music (For a Film)', 5: 'Let Down', 6: 'Karma Police', 7: 'No Surprises', 8: 'Lucky', 9: 'The Tourist'}}\n"
     ]
    }
   ],
   "source": [
    "okc_album = {\n",
    "    \"title\": \"OK Computer\",\n",
    "    \"artist\": \"Radiohead\",\n",
    "    \"year\": 1997,\n",
    "    \"genre\": [\"Alternative rock\", \"Art rock\"],\n",
    "    \"tracks\": {\n",
    "        1: \"Airbag\",\n",
    "        2: \"Paranoid Android\",\n",
    "        3: \"Subterranean Homesick Alien\",\n",
    "        4: \"Exit Music (For a Film)\",\n",
    "        5: \"Let Down\",\n",
    "        6: \"Karma Police\",\n",
    "        7: \"No Surprises\",\n",
    "        8: \"Lucky\",\n",
    "        9: \"The Tourist\"\n",
    "    }\n",
    "}\n",
    "\n",
    "print(okc_album)"
   ]
  },
  {
   "cell_type": "code",
   "execution_count": 8,
   "metadata": {},
   "outputs": [
    {
     "name": "stdout",
     "output_type": "stream",
     "text": [
      "{'title': 'In Rainbows', 'artist': 'Radiohead', 'year': 2007, 'genre': ['Alternative rock', 'Art rock'], 'tracks': {1: '15 Step', 2: 'Bodysnatchers', 3: 'Nude', 4: 'Weird Fishes/Arpeggi', 5: 'All I Need', 6: 'Faust Arp', 7: 'Reckoner', 8: 'House of Cards', 9: 'Jigsaw Falling into Place', 10: 'Videotape'}}\n"
     ]
    }
   ],
   "source": [
    "in_rainbows_album = {\n",
    "    \"title\": \"In Rainbows\",\n",
    "    \"artist\": \"Radiohead\",\n",
    "    \"year\": 2007,\n",
    "    \"genre\": [\"Alternative rock\", \"Art rock\"],\n",
    "    \"tracks\": {\n",
    "        1: \"15 Step\",\n",
    "        2: \"Bodysnatchers\",\n",
    "        3: \"Nude\",\n",
    "        4: \"Weird Fishes/Arpeggi\",\n",
    "        5: \"All I Need\",\n",
    "        6: \"Faust Arp\",\n",
    "        7: \"Reckoner\",\n",
    "        8: \"House of Cards\",\n",
    "        9: \"Jigsaw Falling into Place\",\n",
    "        10: \"Videotape\"\n",
    "    }\n",
    "}\n",
    "\n",
    "print(in_rainbows_album)"
   ]
  },
  {
   "cell_type": "code",
   "execution_count": 9,
   "metadata": {},
   "outputs": [
    {
     "name": "stdout",
     "output_type": "stream",
     "text": [
      "{'title': 'Hail to the Thief', 'artist': 'Radiohead', 'year': 2003, 'genre': ['Alternative rock', 'Art rock'], 'tracks': {1: '2 + 2 = 5', 2: 'Sit Down. Stand Up.', 3: 'Sail to the Moon', 4: 'Backdrifts', 5: 'Go to Sleep', 6: 'Where I End and You Begin', 7: 'We Suck Young Blood', 8: 'The Gloaming', 9: 'There There', 10: 'I Will', 11: 'A Punchup at a Wedding', 12: 'Myxomatosis', 13: 'Scatterbrain', 14: 'A Wolf at the Door'}}\n"
     ]
    }
   ],
   "source": [
    "httt_album = {\n",
    "    \"title\": \"Hail to the Thief\",\n",
    "    \"artist\": \"Radiohead\",\n",
    "    \"year\": 2003,\n",
    "    \"genre\": [\"Alternative rock\", \"Art rock\"],\n",
    "    \"tracks\": {\n",
    "        1: \"2 + 2 = 5\",\n",
    "        2: \"Sit Down. Stand Up.\",\n",
    "        3: \"Sail to the Moon\",\n",
    "        4: \"Backdrifts\",\n",
    "        5: \"Go to Sleep\",\n",
    "        6: \"Where I End and You Begin\",\n",
    "        7: \"We Suck Young Blood\",\n",
    "        8: \"The Gloaming\",\n",
    "        9: \"There There\",\n",
    "        10: \"I Will\",\n",
    "        11: \"A Punchup at a Wedding\",\n",
    "        12: \"Myxomatosis\",\n",
    "        13: \"Scatterbrain\",\n",
    "        14: \"A Wolf at the Door\"\n",
    "    }\n",
    "}\n",
    "\n",
    "print(httt_album)"
   ]
  },
  {
   "attachments": {},
   "cell_type": "markdown",
   "metadata": {},
   "source": [
    "#### Generate Random Story Using the Dictionary"
   ]
  },
  {
   "cell_type": "code",
   "execution_count": 18,
   "metadata": {},
   "outputs": [
    {
     "name": "stdout",
     "output_type": "stream",
     "text": [
      "The first time I listened to Radiohead's album Kid A, I felt a funeral in my brain because the music was so Experimental. My favorite track was Everything In Its Right Place because it gave me a heart attack.\n"
     ]
    }
   ],
   "source": [
    "import random\n",
    "\n",
    "madlib_template = \"The first time I listened to Radiohead's album {}, I felt {} because the music was so {}. My favorite track was {} because it gave me a {}.\"\n",
    "\n",
    "albums = [kid_a_album, httt_album, okc_album, in_rainbows_album]\n",
    "\n",
    "chosen_album = random.choice(albums)\n",
    "\n",
    "album_title = chosen_album[\"title\"]\n",
    "album_genre = random.choice(chosen_album[\"genre\"])\n",
    "album_tracks = chosen_album[\"tracks\"]\n",
    "chosen_track_num, chosen_track_title = random.choice(list(album_tracks.items()))\n",
    "\n",
    "madlib_story = madlib_template.format(album_title, random.choice([\"a sharp pain in my heart\", \"proud\", \"a funeral in my brain\", \"nothing\"]), album_genre, chosen_track_title, random.choice([\"heart attack\", \"sense of patriotism\", \"series of random goosebumps\", \"aneurysm\"]))\n",
    "\n",
    "print(madlib_story)"
   ]
  }
 ],
 "metadata": {
  "kernelspec": {
   "display_name": "base",
   "language": "python",
   "name": "python3"
  },
  "language_info": {
   "codemirror_mode": {
    "name": "ipython",
    "version": 3
   },
   "file_extension": ".py",
   "mimetype": "text/x-python",
   "name": "python",
   "nbconvert_exporter": "python",
   "pygments_lexer": "ipython3",
   "version": "3.9.12"
  },
  "orig_nbformat": 4
 },
 "nbformat": 4,
 "nbformat_minor": 2
}
