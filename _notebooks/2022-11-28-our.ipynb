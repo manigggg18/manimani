{
 "cells": [
  {
   "cell_type": "markdown",
   "metadata": {},
   "source": [
    "# Unit 3 Sections 3-4 \n",
    "\n",
    "- title: Mathematical Expressions and Strings\n",
    "- comments: true\n",
    "- permalink: /jupyter/lesson2\n",
    "- categories: [jupyter]"
   ]
  },
  {
   "cell_type": "markdown",
   "metadata": {},
   "source": [
    "## What is an Algorithm?\n",
    "\n",
    "**An algorithm:** a set of instructions that can accomplish a specific task.\n",
    "\n",
    "### An Algorithm Has Three Components\n",
    "\n",
    "1. **Sequencing:** Algorithms do tasks in the order of specification. \n",
    "\n",
    "2. **Selection:** Helps choose two different outcomes based off a decision.\n",
    "\n",
    "3. **Iteration:** If a condition is true, then the code can repeat. \n",
    "\n",
    "### Algorithms Can Be Represented in Two Ways\n",
    "\n",
    "1. **Flowcharts:** Use shapes and arrows to represent the steps of an algorithm. \n",
    "\n",
    "2. **Pseudocode:** A blend of human language and coding format. \n",
    "\n",
    "### Hacks: Jamboard Flowchart\n",
    "\n",
    "[Click on this link for a group activity](https://jamboard.google.com/d/1qpPFYt9cyjJOSzpT4ODND8Jj6gk8DUWPbLAksaOTCvA/viewer?f=0)\n",
    "---\n",
    "---\n",
    "\n",
    "## Variables\n",
    "\n",
    "### Different Ways Values are Stored in Variables\n",
    "\n",
    "1. Numerical value stored in a variable\n",
    "   \n",
    "2. Value of another variable stored in a variable \n",
    "   \n",
    "3. Result of an operation stored in a variable \n",
    "\n",
    "4. Result of a procedure call stored in a variable "
   ]
  },
  {
   "cell_type": "code",
   "execution_count": null,
   "metadata": {},
   "outputs": [],
   "source": [
    "score = 0   # 1\n",
    "score = newScore    # 2\n",
    "score = newScore + 2    # 3\n",
    "avgScore ← allscores(20, 60, 80)    # 4"
   ]
  },
  {
   "cell_type": "markdown",
   "metadata": {},
   "source": [
    "### Sequencing is Important!"
   ]
  },
  {
   "cell_type": "code",
   "execution_count": null,
   "metadata": {},
   "outputs": [],
   "source": [
    "num1 = 2\n",
    "num2 = 4\n",
    "num3 = 6\n",
    "num1 = num2 + num3      # num1 is now 4 + 6, which is 10\n",
    "num2 = num1 + num3      # num2 is now (the new num1) 10 + 6, which is 16\n",
    "# output: num1 = 10, num2 = 16, num3 = 6"
   ]
  },
  {
   "cell_type": "markdown",
   "metadata": {},
   "source": [
    "**VS**"
   ]
  },
  {
   "cell_type": "code",
   "execution_count": null,
   "metadata": {},
   "outputs": [],
   "source": [
    "num1 = 2\n",
    "num2 = 4\n",
    "num3 = 6\n",
    "num2 = num1 + num3  #num2 is now 8\n",
    "num1 = num2 + num3  # num1 is now 14\n",
    "# output: num1 = 14, num2 = 8, num3 = 6"
   ]
  },
  {
   "cell_type": "markdown",
   "metadata": {},
   "source": [
    "---\n",
    "---\n",
    "\n",
    "## Arithmetic Operations\n",
    "\n",
    "Arithmetic operations exist in most programming languages.\n",
    "\n",
    "### Basic Operations\n",
    "\n",
    "**Subtraction**:\n",
    "\n",
    "- Represented by “-\""
   ]
  },
  {
   "cell_type": "code",
   "execution_count": null,
   "metadata": {},
   "outputs": [],
   "source": [
    "num1 = 2 - 1"
   ]
  },
  {
   "cell_type": "markdown",
   "metadata": {},
   "source": [
    "**Addition**: \n",
    "\n",
    "- Represented by \"+\""
   ]
  },
  {
   "cell_type": "code",
   "execution_count": null,
   "metadata": {},
   "outputs": [],
   "source": [
    "num1 = 2 + 1"
   ]
  },
  {
   "cell_type": "markdown",
   "metadata": {},
   "source": [
    "**Multiplication**: \n",
    "\n",
    "- Represented by “*”"
   ]
  },
  {
   "cell_type": "code",
   "execution_count": null,
   "metadata": {},
   "outputs": [],
   "source": [
    "num1 = 2 * 1"
   ]
  },
  {
   "cell_type": "markdown",
   "metadata": {},
   "source": [
    "**Division**: \n",
    "\n",
    "- Represented by “/”"
   ]
  },
  {
   "cell_type": "code",
   "execution_count": null,
   "metadata": {},
   "outputs": [],
   "source": [
    "num1 = 2 / 1"
   ]
  },
  {
   "cell_type": "markdown",
   "metadata": {},
   "source": [
    "**Getting the Remainder**: \n",
    "\n",
    "- Represented by “MOD” (% in python)"
   ]
  },
  {
   "cell_type": "code",
   "execution_count": null,
   "metadata": {},
   "outputs": [],
   "source": [
    "num1 = 5 % 2"
   ]
  },
  {
   "cell_type": "markdown",
   "metadata": {},
   "source": [
    "### Different Uses\n",
    "\n",
    "> Items can be numbers or variables.\n",
    "\n",
    "Examples:"
   ]
  },
  {
   "cell_type": "code",
   "execution_count": null,
   "metadata": {},
   "outputs": [],
   "source": [
    "num1 = 10\n",
    "num2 = num1 - 25\n",
    "num3 = 100 * num1\n",
    "num4 = num1 / num2\n",
    "num5 = 9 % num4"
   ]
  },
  {
   "cell_type": "markdown",
   "metadata": {},
   "source": [
    "### Order of Operations\n",
    "\n",
    "Arithmetic operations in programming are performed in the same order as operations in mathematics:\n",
    "\n",
    "- Operations in parentheses should be done first.\n",
    "\n",
    "- Division and multiplication should be done before addition and subtraction.\n",
    "\n",
    "- Modulus works similar to multiplication and division.\n",
    "\n",
    "Example: Evaluate num1\t"
   ]
  },
  {
   "cell_type": "code",
   "execution_count": 1,
   "metadata": {},
   "outputs": [
    {
     "name": "stdout",
     "output_type": "stream",
     "text": [
      "10.0\n"
     ]
    }
   ],
   "source": [
    "num1 = 9 % 2 * ( 8 - 2 ) + 8 / ( 6 - 4 )\n",
    "print(num1)"
   ]
  },
  {
   "cell_type": "markdown",
   "metadata": {},
   "source": [
    "### Hacks/Homework\n",
    "\n",
    "#### Evaluate the variable \"result\"."
   ]
  },
  {
   "cell_type": "code",
   "execution_count": null,
   "metadata": {},
   "outputs": [],
   "source": [
    "Num1 = 50\n",
    "Num2 = Num1 % 9 + 15\n",
    "Num3 = Num2 / Num1 + ( Num2 * 2 )\n",
    "Num4 = Num3 + Num1 / 5 - 10\n",
    "Result = Num4 - Num2\n",
    "print(Result)"
   ]
  },
  {
   "cell_type": "code",
   "execution_count": null,
   "metadata": {},
   "outputs": [],
   "source": [
    "Num1 = 8\n",
    "Num2 = Num1 % 3 * 4\n",
    "Num1 = Num2\n",
    "Num3 = Num1 * 3\n",
    "Result = Num3 % 2\n",
    "print(Result)"
   ]
  },
  {
   "cell_type": "markdown",
   "metadata": {},
   "source": [
    "---\n",
    "---\n",
    "\n",
    "## Strings\n",
    "\n",
    "### What is a String?\n",
    "\n",
    "**A String**: A string is a collection of characters. What is a character as character can be anything from numbers, letters, spaces, special symbols, etc.\n",
    "\n",
    "A string is a collection of characters. What is a character as character can be anything from numbers, letters, spaces, special symbols, etc.\n",
    "\n",
    "Certain procedures may be used with strings and they vary from programming language to language Python examples\n",
    "\n",
    "len() to find the length of a string\n",
    "\n",
    "lower() to convert to lowercase\n",
    "\n",
    "etc. Pseudocode examples\n",
    "\n",
    "len() returns the length of a string\n",
    "\n",
    "concat() returns a string made up of the concatenated strings ex. concat(\"string1\", \"string2\") would return string1string2\n",
    "\n",
    "substring() returns the characters from the string beginning at the at the first position to the last so an example of this would be substring(\"abcdefghijk\", 2, 5) would print bcde (pseudocode starts at 1)\n",
    "\n",
    "### String Concatenation\n",
    "\n",
    "What is string concatenation?\n",
    "\n",
    "String concatenation is combining 2 or more strings to make a new strings in order to create a new string\n",
    "\n",
    "concat() in pseudocode and varys from language to language can be used to combine to strings such as concat(\"cookie\",\"monster\") returns cookiemonster\n",
    "\n",
    "### Substrings\n",
    "\n",
    "What is a substring?\n",
    "\n",
    "A substring is a part of and already existing string.\n",
    "\n",
    "In pseudocode substring() method is used for instance for concat(\"Mr.Mortenson is very handsome\" 1, 2) the system would return Mr (remember that pseudocode starts at 1)\n",
    "\n",
    "### Hacks\n",
    "\n",
    "#### Find the result of the following problems.\n",
    "\n",
    "**Problem 1**"
   ]
  },
  {
   "cell_type": "code",
   "execution_count": null,
   "metadata": {},
   "outputs": [],
   "source": [
    "Noun = \"Mr.Mortenson\" \n",
    "Adjective = \"handsome\" \n",
    "Adjective2 = \"Very\" \n",
    "Verb = \"is\" \n",
    "abrev = subtring(Noun, 1, 7) \n",
    "yoda = concat(Adjective2, \" \", Adjective, \" \", abrev, \" \",Verb, \".\") \n",
    "print{yoda}"
   ]
  },
  {
   "cell_type": "markdown",
   "metadata": {},
   "source": [
    "**Problem 2**"
   ]
  },
  {
   "cell_type": "code",
   "execution_count": null,
   "metadata": {},
   "outputs": [],
   "source": [
    "cookie = \"choclate\" \n",
    "cookie2 = \"rasin\" \n",
    "len1 = \"cookie/2\" \n",
    "len2 = \"cookie2*45\" \n",
    "vote1 = (\"cookie\", \"vote\", \"len2\") \n",
    "vote2 = (\"cookie2\", \"vote\", \"len1\") \n",
    "votes = (concat(vote1, \" \", vote2)) \n",
    "print{votes}\n"
   ]
  }
 ],
 "metadata": {
  "kernelspec": {
   "display_name": "Python 3.9.12 ('base')",
   "language": "python",
   "name": "python3"
  },
  "language_info": {
   "codemirror_mode": {
    "name": "ipython",
    "version": 3
   },
   "file_extension": ".py",
   "mimetype": "text/x-python",
   "name": "python",
   "nbconvert_exporter": "python",
   "pygments_lexer": "ipython3",
   "version": "3.9.12"
  },
  "orig_nbformat": 4,
  "vscode": {
   "interpreter": {
    "hash": "33c078916551e7df06d6239c31e0a5ca0c0782cc8455a487fd402e7e7dd73d0b"
   }
  }
 },
 "nbformat": 4,
 "nbformat_minor": 2
}
