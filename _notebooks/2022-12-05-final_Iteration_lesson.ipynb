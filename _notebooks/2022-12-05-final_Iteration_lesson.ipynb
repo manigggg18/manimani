{
 "cells": [
  {
   "cell_type": "markdown",
   "metadata": {},
   "source": [
    "# Unit 3 Sections 8 and 10 lesson\n",
    "> Lists and Iteration Lesson\n",
    "\n",
    "- title: Lists and Iteration\n",
    "- comments: true\n",
    "- permalink: /jupyter/lesson4\n",
    "- categories: [lesson]"
   ]
  },
  {
   "cell_type": "markdown",
   "metadata": {},
   "source": [
    "# Lists\n",
    "## What are lists?\n",
    "Lists: a sequence of variables\n",
    "- we can use lists to store multiple items into one variable\n",
    "- used to store collections of data\n",
    "- changeable, ordered, allow duplicates"
   ]
  },
  {
   "cell_type": "markdown",
   "metadata": {},
   "source": [
    "### List examples in Python, JavaScript, and Pseudocode."
   ]
  },
  {
   "cell_type": "code",
   "execution_count": null,
   "metadata": {},
   "outputs": [],
   "source": [
    "fruits = [\"apple\", \"grape\", \"strawberry\"]\n",
    "print (fruits)"
   ]
  },
  {
   "cell_type": "code",
   "execution_count": null,
   "metadata": {
    "vscode": {
     "languageId": "javascript"
    }
   },
   "outputs": [],
   "source": [
    "const fruits = [\"apple\", \"grape\", \"strawberry\"];"
   ]
  },
  {
   "cell_type": "code",
   "execution_count": null,
   "metadata": {},
   "outputs": [],
   "source": [
    "fruits ← [apple, grape, strawberry]"
   ]
  },
  {
   "cell_type": "markdown",
   "metadata": {},
   "source": [
    "### Lists are just one of four collection data types in Python\n",
    "\n",
    "- Tuple: collection that is ordered, unchangeable, allows duplicates\n",
    "- Set: collection that is unordered, unchangeable, doesn't allow duplicates\n",
    "- Dictionary: collection that is ordered, changeable, doesn't allow duplicates"
   ]
  },
  {
   "cell_type": "markdown",
   "metadata": {},
   "source": [
    "### Terms\n",
    "- Index: a term used to sort data in order to reference to an element in a list (allows for duplicates)\n",
    "- Elements: the values in the list assigned to an index"
   ]
  },
  {
   "cell_type": "code",
   "execution_count": 1,
   "metadata": {},
   "outputs": [
    {
     "name": "stdout",
     "output_type": "stream",
     "text": [
      "grape\n"
     ]
    }
   ],
   "source": [
    "fruits = [\"apple\", \"grape\", \"strawberry\"]\n",
    "index = 1\n",
    "\n",
    "print (fruits[index])"
   ]
  },
  {
   "cell_type": "markdown",
   "metadata": {},
   "source": [
    "## Methods in Lists\n",
    "\n",
    "| Method | Definition | Example |\n",
    "|-|-|-|\n",
    "| append() | adds element to the end of the list | fruits.append(\"watermelon\") |\n",
    "| index() | returns the index of the first element with the specified value | fruits.index(\"apple\") |\n",
    "| insert() | adds element at given position | fruits.insert(1, \"watermelon\")|\n",
    "| remove() | removes the first item with the specified value | fruits.remove(\"strawberry\") |\n",
    "| reverse() | reverses the list order | fruits.reverse() |\n",
    "| sort() | sorts the list | fruits.sort() |\n",
    "| count() | returns the amount of elements with the specified value | fruits.count(\"apple\") |\n",
    "| copy() | returns a copy of the list | fruits.copy() |\n",
    "| clear() | removes the elements from the list | fruits.clear() |"
   ]
  },
  {
   "cell_type": "code",
   "execution_count": 3,
   "metadata": {},
   "outputs": [
    {
     "name": "stdout",
     "output_type": "stream",
     "text": [
      "['hockey', 'soccer', 'baseball', 'basketball']\n"
     ]
    }
   ],
   "source": [
    "sports = [\"football\", \"soccer\", \"baseball\", \"basketball\"]\n",
    "index = 0\n",
    "# change the value \"soccer\" to \"hockey\"\n",
    "sports.remove(sports[index])\n",
    "sports.insert(0, \"hockey\")\n",
    "print(sports)"
   ]
  },
  {
   "cell_type": "code",
   "execution_count": 30,
   "metadata": {},
   "outputs": [
    {
     "name": "stdout",
     "output_type": "stream",
     "text": [
      "['football', 'soccer', 'golf', 'baseball', 'basketball']\n"
     ]
    }
   ],
   "source": [
    "sports = [\"football\", \"soccer\", \"baseball\", \"basketball\"]\n",
    "\n",
    "# add \"golf\" as the 3rd element in the list\n",
    "sports.insert(2, \"golf\")\n",
    "print(sports)"
   ]
  },
  {
   "cell_type": "markdown",
   "metadata": {},
   "source": [
    "# Iteration\n",
    "\n",
    "Iteration is the repetition of a process or utterance applied to the result or taken from a previous statement. There's a lot of types of iteration though, what to use? How do we apply iteration to lists?\n",
    "\n",
    "Some methods include using a \"for loop\", using a \"for loop and range()\", using a \"while loop\", and using comprehension\n",
    "\n",
    "Lists, tuples, dictionaries, and sets are iterable objects. They are the 'containers' that store the data to iterate.\n",
    "\n",
    "Each of these containers are able to iterate with the iter() command.\n",
    "\n",
    "There are 2 types of iteration:definite and indefinite. Definite iteration clarifies how many times the loop is going to run, while indefinite specifies a condition that must be met\n",
    "\n",
    "## Iterator? Iterable? Iteration?\n",
    "\n",
    "- When an object is iterable it can be used in an iteration\n",
    "\n",
    "- When passed through the function iter() it returns an iterator\n",
    "\n",
    "- Strings, lists, dictionaries, sets and tuples are all examples of iterable objects.\n",
    "\n",
    "## Loops\n",
    "\n",
    "- Well, above is basically just printing them again, so how do we takes these iterators into something we can make use for?\n",
    "\n",
    "- Loops take essentially what we did above and automates it, here are some examples.\n",
    "\n",
    "### Using the range() function\n",
    "\n",
    "But wait, there's more\n",
    "\n",
    "Need to save even more time? The above is useful for many occasions, but can get tedious fast, in this case, use range()"
   ]
  },
  {
   "cell_type": "markdown",
   "metadata": {},
   "source": [
    "### Else, elif, and break\n",
    "> For when 1 statement isn't enough\n",
    "\n",
    "> Else:when the condition does not meet, do statement()- Elif: when the condition does not meet, but meets another condition, do statement()\n",
    "> Break: stop the loop\n",
    "\n",
    "# 2D Iteration\n",
    "## 2D Arrays\n",
    "A 2D array is simply just a list of lists. The example below is technically correct but...\n",
    "Conventially 2D arrays are written like below. This is because 2D arrays are meant to be read in 2 dimensions (hence the name). Writing them like below makes them easier to visualize and understand."
   ]
  },
  {
   "cell_type": "markdown",
   "metadata": {},
   "source": [
    "## HW"
   ]
  },
  {
   "cell_type": "code",
   "execution_count": 13,
   "metadata": {},
   "outputs": [
    {
     "name": "stdout",
     "output_type": "stream",
     "text": [
      "bravo\n",
      "alfa\n",
      "tango\n",
      "mike\n",
      "alfa\n",
      "november\n"
     ]
    }
   ],
   "source": [
    "words = [\"alfa\", \"bravo\", \"charlie\", \"delta\", \"echo\", \"foxtrot\", \"golf\", \"hotel\", \"india\", \"juliett\", \"kilo\",\n",
    "\"lima\", \"mike\", \"november\", \"oscar\", \"papa\", \"quebec\", \"romeo\", \"sierra\", \"tango\", \"uniform\", \"victor\", \"whiskey\", \"xray\", \"yankee\", \"zulu\"]\n",
    "\n",
    "index = 0\n",
    "inp = input().lower()\n",
    "def show_letters(inp):\n",
    "    for letter in inp:\n",
    "        for let in words:\n",
    "            if letter == let[index]:\n",
    "                print(let)\n",
    "show_letters(inp)\n",
    "\n",
    "# btw the input is batman"
   ]
  },
  {
   "cell_type": "code",
   "execution_count": 27,
   "metadata": {},
   "outputs": [],
   "source": [
    "# Example matrix\n",
    "\n",
    "keypad = [[1, 2, 3], [4, 5, 6], [7, 8, 9], [\" \", 0, \" \"]]"
   ]
  },
  {
   "cell_type": "code",
   "execution_count": 28,
   "metadata": {},
   "outputs": [
    {
     "name": "stdout",
     "output_type": "stream",
     "text": [
      "1 2 3\n",
      "4 5 6\n",
      "7 8 9\n",
      "  0  \n"
     ]
    }
   ],
   "source": [
    "def print_matrix3(matrix):\n",
    "    for a in matrix:\n",
    "        itr = iter(a)\n",
    "        print(next(itr), next(itr), next(itr))\n",
    "        \n",
    "print_matrix3(keypad)"
   ]
  },
  {
   "cell_type": "markdown",
   "metadata": {},
   "source": [
    "Alternatively, find a way to print the matrix using the iter() function you already learned. Or use both!"
   ]
  },
  {
   "cell_type": "code",
   "execution_count": 41,
   "metadata": {},
   "outputs": [
    {
     "name": "stdout",
     "output_type": "stream",
     "text": [
      "Mani\n",
      "May\n",
      "18\n"
     ]
    }
   ],
   "source": [
    "letters = [[\"`\", 1, 2, 3, 4, 5, 6, 7, 8, 9, 0, \"-\", \"=\"],\n",
    "            [\"Q\", \"W\", \"E\", \"R\", \"T\", \"Y\", \"U\", \"I\", \"O\", \"P\", \"[\", \"]\"],\n",
    "            [\"A\", \"S\", \"D\", \"F\", \"G\", \"H\", \"J\", \"K\", \"L\", \";\", \"'\"],\n",
    "            [\"Z\", \"X\", \"C\", \"V\", \"B\", \"N\", \"M\", \",\", \".\", \"/\"]]\n",
    "\n",
    "letters_lower1 = [letter.lower() for letter in letters[1]]               # additional lines of code for better capitalization\n",
    "letters_lower2 = [letter.lower() for letter in letters[2]]\n",
    "letters_lower3 = [letter.lower() for letter in letters[3]]\n",
    "\n",
    "print(letters[3][6] + letters_lower2[0] + letters_lower3[5] + letters_lower1[7])\n",
    "print(letters[3][6] + letters_lower2[0] + letters_lower1[5])\n",
    "print(letters[0][9] + letters[0][9])"
   ]
  }
 ],
 "metadata": {
  "kernelspec": {
   "display_name": "Python 3.9.12 ('base')",
   "language": "python",
   "name": "python3"
  },
  "language_info": {
   "codemirror_mode": {
    "name": "ipython",
    "version": 3
   },
   "file_extension": ".py",
   "mimetype": "text/x-python",
   "name": "python",
   "nbconvert_exporter": "python",
   "pygments_lexer": "ipython3",
   "version": "3.9.12"
  },
  "orig_nbformat": 4,
  "vscode": {
   "interpreter": {
    "hash": "33c078916551e7df06d6239c31e0a5ca0c0782cc8455a487fd402e7e7dd73d0b"
   }
  }
 },
 "nbformat": 4,
 "nbformat_minor": 2
}
