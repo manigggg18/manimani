{
 "cells": [
  {
   "cell_type": "markdown",
   "metadata": {},
   "source": [
    "# Java (IPYNB)\n",
    "\n",
    "- title: Java (IPYNB)\n",
    "- comments: true\n",
    "- permalink: /jupyter/java_ipynb\n",
    "- categories: [jupyter]"
   ]
  },
  {
   "cell_type": "markdown",
   "metadata": {},
   "source": [
    "## Single Function: Product Return"
   ]
  },
  {
   "cell_type": "code",
   "execution_count": 1,
   "metadata": {},
   "outputs": [
    {
     "name": "stdout",
     "output_type": "stream",
     "text": [
      "5040\n"
     ]
    }
   ],
   "source": [
    "const factorial = function fac(n) {         // calls a function which performs a calculation and returns the result\n",
    "  return n < 2 ? 1 : n * fac(n - 1);\n",
    "}\n",
    "\n",
    "console.log(factorial(7))"
   ]
  },
  {
   "cell_type": "markdown",
   "metadata": {},
   "source": [
    "## Set of Functions and Definitions: JSON Lists and Prototypes"
   ]
  },
  {
   "cell_type": "code",
   "execution_count": 4,
   "metadata": {},
   "outputs": [
    {
     "name": "stdout",
     "output_type": "stream",
     "text": [
      "object; [ Media { name: 'Kid A', cre: 'Radiohead', date: 2000, type: 'Album' },\n",
      "  Media {\n",
      "    name: 'Whiplash',\n",
      "    cre: 'Damien Chazelle',\n",
      "    date: 2014,\n",
      "    type: 'Movie' },\n",
      "  Media {\n",
      "    name: 'Atonement',\n",
      "    cre: 'Joe Wright',\n",
      "    date: 2007,\n",
      "    type: 'Movie' },\n",
      "  Media {\n",
      "    name: 'Prestige',\n",
      "    cre: 'Christopher Nolan',\n",
      "    date: 2006,\n",
      "    type: 'Movie' },\n",
      "  Media { name: 'Fargo', cre: 'Noah Hawley', date: 2014, type: 'Show' },\n",
      "  Media {\n",
      "    name: 'Daredevil',\n",
      "    cre: 'Kati Johnson',\n",
      "    date: 2015,\n",
      "    type: 'Show' } ]\n",
      "string; Fargo\n",
      "string; {\"name\":\"Fargo\",\"cre\":\"Noah Hawley\",\"date\":2014,\"type\":\"Show\"}\n",
      "object; { name: 'Fargo', cre: 'Noah Hawley', date: 2014, type: 'Show' }\n"
     ]
    }
   ],
   "source": [
    "function printInfo(msg) {           // Necessary definition \n",
    "    console.log(typeof msg + \";\", msg);\n",
    "}\n",
    "\n",
    "function Media(name, cre, date) {       // Define media\n",
    "    this.name = name;\n",
    "    this.cre = cre;\n",
    "    this.date = date;\n",
    "    this.type = \"\";\n",
    "}\n",
    "\n",
    "Media.prototype.setType = function(type) {          // Introduce prototype\n",
    "    this.type = type;\n",
    "}\n",
    "\n",
    "Media.prototype.toJSON = function() {           // organize\n",
    "    const data = {name: this.name, cre: this.cre, date: this.date, type: this.type};\n",
    "    const jsonString = JSON.stringify(data);\n",
    "    return jsonString;\n",
    "}\n",
    "\n",
    "var album = new Media(\"Kid A\", \"Radiohead\", 2000);              // song variable\n",
    "album.setType(\"Album\");\n",
    "\n",
    "var movie = [               // movie variables\n",
    "    new Media(\"Whiplash\", \"Damien Chazelle\", 2014),\n",
    "    new Media(\"Atonement\", \"Joe Wright\", 2007),\n",
    "    new Media(\"Prestige\", \"Christopher Nolan\", 2006)\n",
    "]\n",
    "\n",
    "var show = [            // show variables\n",
    "    new Media(\"Fargo\", \"Noah Hawley\", 2014),\n",
    "    new Media(\"Daredevil\", \"Kati Johnson\", 2015),\n",
    "]\n",
    "\n",
    "function Medias(album, movie, show) {\n",
    "    album.setType(\"Album\");\n",
    "    this.album = album;\n",
    "    this.medias = [album];\n",
    "    this.movie = movie;\n",
    "    this.show = show;\n",
    "    this.movie.forEach(movie => {movie.setType(\"Movie\"); this.medias.push(movie);});\n",
    "    this.show.forEach(show => {show.setType(\"Show\"); this.medias.push(show);});\n",
    "    this.jsonMedias = [];\n",
    "    this.medias.forEach(media => this.jsonMedias.push(media.toJSON()));\n",
    "}\n",
    "\n",
    "catalog = new Medias(album, movie, show);\n",
    "\n",
    "printInfo(catalog.medias);\n",
    "printInfo(catalog.medias[4].name);\n",
    "printInfo(catalog.jsonMedias[4]);\n",
    "printInfo(JSON.parse(catalog.jsonMedias[4]));"
   ]
  }
 ],
 "metadata": {
  "kernelspec": {
   "display_name": "JavaScript (Node.js)",
   "language": "javascript",
   "name": "javascript"
  },
  "language_info": {
   "file_extension": ".js",
   "mimetype": "application/javascript",
   "name": "javascript",
   "version": "6.11.2"
  },
  "orig_nbformat": 4,
  "vscode": {
   "interpreter": {
    "hash": "33c078916551e7df06d6239c31e0a5ca0c0782cc8455a487fd402e7e7dd73d0b"
   }
  }
 },
 "nbformat": 4,
 "nbformat_minor": 2
}
