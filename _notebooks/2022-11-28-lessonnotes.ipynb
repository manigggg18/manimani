{
 "cells": [
  {
   "attachments": {},
   "cell_type": "markdown",
   "metadata": {},
   "source": [
    "# Unit Notes and Homework (Day 1)\n",
    "\n",
    "- title: Unit Notes and Homework (Day 1)\n",
    "- comments: true\n",
    "- permalink: /jupyter/lesson1\n",
    "- categories: [lesson]"
   ]
  },
  {
   "cell_type": "markdown",
   "metadata": {},
   "source": [
    "# 3.1 & 3.2\n",
    "\n",
    "[link](https://vivianknee.github.io/t2p3t1/lectures/2022/11/27/var-ass-dataab-lecture.html)\n",
    "\n",
    "## Lesson\n",
    "\n",
    "### Variables \n",
    "\n",
    "A variable is an abstraction inside a program that can hold a value.\n",
    "\n",
    "It organizes data by labeling it with a descriptive name.\n",
    "\n",
    "It consists of three parts: name, value, and type.\n",
    "\n",
    "Using meaningful variables names helps with readability of program code and understanding of what values are represented by the variables.\n",
    "\n",
    "Variables should not be specific.\n",
    "\n",
    "Not too vague either.\n",
    "\n",
    "Use 1-2 capitalized letters\n",
    "\n",
    "No spaces\n",
    "\n",
    "**Types of data:**\n",
    "\n",
    "- Integer: A number\n",
    "- Text/string: A word\n",
    "- Boolean: Data that determines if something is true or false\n",
    "\n",
    "**A list of data can also be stored in variables. Why is that useful?**\n",
    "\n",
    "- print/retrieve specific values in the list without creating a lot of variables\n",
    "- easily remove/add/change items into the list"
   ]
  },
  {
   "cell_type": "code",
   "execution_count": 1,
   "metadata": {},
   "outputs": [
    {
     "name": "stdout",
     "output_type": "stream",
     "text": [
      "9\n",
      "9\n"
     ]
    }
   ],
   "source": [
    "num1 = 5\n",
    "num2 = 9\n",
    "num1 = num2\n",
    "\n",
    "print(num1)\n",
    "print(num2)"
   ]
  },
  {
   "cell_type": "code",
   "execution_count": 2,
   "metadata": {},
   "outputs": [
    {
     "name": "stdout",
     "output_type": "stream",
     "text": [
      "42\n",
      "42\n",
      "15\n"
     ]
    }
   ],
   "source": [
    "num1 = 15\n",
    "num2 = 25\n",
    "num3 = 42\n",
    "num2 = num3\n",
    "num3 = num1\n",
    "num1 = num2\n",
    "\n",
    "print(num1)\n",
    "print(num2)\n",
    "print(num3)"
   ]
  },
  {
   "cell_type": "code",
   "execution_count": 3,
   "metadata": {},
   "outputs": [
    {
     "name": "stdout",
     "output_type": "stream",
     "text": [
      "42\n",
      "84\n",
      "4284\n",
      "126\n"
     ]
    }
   ],
   "source": [
    "num2 += num1\n",
    "print(num1)\n",
    "print(num2)\n",
    "\n",
    "print(str(num1)+ str(num2))\n",
    "print(num1 + num2)"
   ]
  },
  {
   "cell_type": "markdown",
   "metadata": {},
   "source": [
    "### Data Abstraction\n",
    "\n",
    "Method used in coding to represent data in a useful form, by taking away aspects of data that aren't being used in the situation\n",
    "\n",
    "Variables and lists are primary tools in data abstraction\n",
    "\n",
    "Provides a separation between the abstract properties of a data type and the concrete details of its representation\n",
    "\n",
    "### Lists & Strings\n",
    "\n",
    "List = ordered sequence of elements\n",
    "\n",
    "Element = individual value in a list that is assigned to a unique index\n",
    "\n",
    "Index = a way to reference the elements in a list or string using natural numbers; each element of a string is referenced by an index\n",
    "\n",
    "String = ordered sequence of characters (Letters, numbers, special characters)\n",
    "\n",
    ">  Note: index starts at 1 for AP Exam, must be whole numbers, cannot be negative, and goes up to the number of elements in the list\n",
    "\n",
    "### Managing the Complexity of a Program through Data Abstraction\n",
    "\n",
    "Data abstractions help manage complexity in programs by giving a collection of data a name without referencing the specific details of the representation\n",
    "\n",
    "Developing a data abstraction to use in a program can result in a program that is easier to develop and maintain\n",
    "\n",
    "### Using Lists as Data Abstractions\n",
    "\n",
    "**What are Lists?**\n",
    "\n",
    "- Allow for data abstraction\n",
    "\n",
    "- Bundle variables together\n",
    "\n",
    "- Store multiple elements\n",
    "\n",
    "- Allows multiple related items to be treated as a single value\n",
    "\n",
    "- Give one name to a set of memory cells\n",
    "\n",
    "- Can keep adding elements to it as needed\n",
    "\n",
    "- Can store elements as a single variable by using a list\n",
    "\n",
    "**3 Types of List Operations**\n",
    "\n",
    "1. Assigning values to a list at certain indices\n",
    "   \n",
    "2. Creating an empty list and assigning it to a variable\n",
    "   \n",
    "3. Assigning a copy of one list to another list (setting one list equal to another list)"
   ]
  },
  {
   "cell_type": "code",
   "execution_count": null,
   "metadata": {},
   "outputs": [],
   "source": [
    "colorsList=[\"pink\", \"yellow\", \"green\", \"blue\", \"orange\"]\n",
    "\n",
    "print(colorsList)\n",
    "\n",
    "colorsList=[] # can be used if you want to create a list that can be filled with values later\n",
    "\n",
    "# copy of the list is made; the list isn't sorted in place\n",
    "def Reverse(lst): # defining variable: lst \n",
    "    new_lst = lst[::-1] \n",
    "    return new_lst\n",
    " \n",
    "lst = [\"pink\", \"green\", \"purple\", \"yellow\", \"orange\", \"blue\", \"black\"]\n",
    "print(Reverse(lst)) # reverse 1st"
   ]
  },
  {
   "cell_type": "code",
   "execution_count": 11,
   "metadata": {},
   "outputs": [
    {
     "name": "stdout",
     "output_type": "stream",
     "text": [
      "green\n",
      "red\n",
      "pink\n",
      "purple\n",
      "blue\n",
      "brown\n",
      "green\n",
      "red\n",
      "pink\n",
      "purple\n",
      "blue\n",
      "brown\n"
     ]
    }
   ],
   "source": [
    "color1=\"green\"\n",
    "color2=\"red\"\n",
    "color3=\"pink\"\n",
    "color4=\"purple\"\n",
    "color5=\"blue\"\n",
    "color6=\"brown\"\n",
    "\n",
    "print(color1)\n",
    "print(color2)\n",
    "print(color3)\n",
    "print(color4)\n",
    "print(color5)\n",
    "print(color6)\n",
    "\n",
    "# OR\n",
    "\n",
    "colorList=[\"green\", \"red\", \"pink\", \"purple\", \"blue\", \"brown\"]\n",
    "\n",
    "for i in colorList:\n",
    "    print(i)"
   ]
  },
  {
   "cell_type": "markdown",
   "metadata": {},
   "source": [
    "# Homework"
   ]
  },
  {
   "cell_type": "code",
   "execution_count": 24,
   "metadata": {},
   "outputs": [
    {
     "name": "stdout",
     "output_type": "stream",
     "text": [
      "To be or not to be?\n",
      "What's your name?\n",
      "How was break?\n",
      "Is this homework?\n",
      "Final score: 4\n"
     ]
    }
   ],
   "source": [
    "questions = 3\n",
    "correct = 0\n",
    "\n",
    "# Use a dictionary for the questions\n",
    "quesList = [\"To be or not to be?\", \"What's your name?\", \"How was break?\", \"Is this homework?\"]\n",
    "\n",
    "# Use a dictionary for the correct solutions\n",
    "soluList = [\"idk\", \"mani\", \"fine\", \"yea\"]\n",
    "\n",
    "for i in quesList:\n",
    "    print(i)\n",
    "    \n",
    "value1 = input (\"Q1\")\n",
    "value2 = input (\"Q2\")\n",
    "value3 = input (\"Q3\")\n",
    "value4 = input (\"Q4\")\n",
    "\n",
    "for n in soluList: \n",
    "    if value1 == n:\n",
    "        correct += 1\n",
    "        \n",
    "for x in soluList: \n",
    "    if value2 == x:\n",
    "        correct += 1\n",
    "    \n",
    "for z in soluList: \n",
    "    if value3 == z:\n",
    "        correct += 1\n",
    "    \n",
    "for y in soluList: \n",
    "    if value4 == y:\n",
    "        correct += 1\n",
    "\n",
    "print(\"Final score: \" + str(correct))"
   ]
  }
 ],
 "metadata": {
  "kernelspec": {
   "display_name": "Python 3.9.12 ('base')",
   "language": "python",
   "name": "python3"
  },
  "language_info": {
   "codemirror_mode": {
    "name": "ipython",
    "version": 3
   },
   "file_extension": ".py",
   "mimetype": "text/x-python",
   "name": "python",
   "nbconvert_exporter": "python",
   "pygments_lexer": "ipython3",
   "version": "3.9.12 (main, Apr  5 2022, 06:56:58) \n[GCC 7.5.0]"
  },
  "orig_nbformat": 4,
  "vscode": {
   "interpreter": {
    "hash": "33c078916551e7df06d6239c31e0a5ca0c0782cc8455a487fd402e7e7dd73d0b"
   }
  }
 },
 "nbformat": 4,
 "nbformat_minor": 2
}
