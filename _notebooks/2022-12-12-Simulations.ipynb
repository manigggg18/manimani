{
 "cells": [
  {
   "attachments": {},
   "cell_type": "markdown",
   "metadata": {},
   "source": [
    "# Unit Notes and Homework (Day 8)\n",
    "> Lesson about simulations and what they're used for \n",
    "\n",
    "- title: Unit Notes and Homework (Day 8)\n",
    "- layout: base\n",
    "- toc: true\n",
    "- badges: false\n",
    "- comments: true\n",
    "- permalink: /jupyter/lesson8\n",
    "- categories: [lesson]"
   ]
  },
  {
   "attachments": {},
   "cell_type": "markdown",
   "metadata": {},
   "source": [
    "# So, what is a simulation anyway? \n",
    "\n",
    "- A simulation is a tested scenario used for viewing results/outputs to prepare for them in real world situations \n",
    "\n",
    "- These can be used for games like dice rolling, spinners, etc \n",
    "\n",
    "- These can be used for practical things such as building structures, testing car crashes, and other things before engaging in them in the real world \n",
    "\n",
    "- These simulations can have the option of obeying real world physics (Gravity, collision) or they can go against these norms since this is a fictitious scenario, and couldn't happen in real life"
   ]
  },
  {
   "attachments": {},
   "cell_type": "markdown",
   "metadata": {},
   "source": [
    "# Big Question \n",
    "\n",
    "- Which of the following simulations could be the LEAST useful? \n",
    "\n",
    "- A retailer trying to identify which products sold the most \n",
    "- A restaurant determining the efficiency of robots \n",
    "- An insurance company studying the rain impact of cars \n",
    "- A sports bike company studying design changes to their new bike design \n",
    "\n",
    "\n",
    "\n",
    "- If you guessed a bike company, you're wrong, because the retail simulation was the right answer. Simulating robots in food service, sudying rain impact on vehicles, and new bike design can contribute a lot more to society in comparison to seeing what products sell more than others. \n"
   ]
  },
  {
   "attachments": {},
   "cell_type": "markdown",
   "metadata": {},
   "source": [
    "# Next Big Question \n",
    "\n",
    "If you were making a simulation for making a new train station, which of the following would be true about this simulation? \n",
    "\n",
    "- It could reveal potential problems/safety issues before construction starts \n",
    "- It cannot be used to test the train station in different weather \n",
    "- Simulation will add high costs to projects \n",
    "- Simulation is not needed because this train station already exists  \n",
    "\n",
    "\n",
    "\n",
    "\n",
    "- Potential Saftey was the right answer, because you need somewhere to test the safety and ethicness of what you're about to do before you start building it. Otherwise, let's just say you'll have a special plaque for FBI's Most Wanted\n"
   ]
  },
  {
   "attachments": {},
   "cell_type": "markdown",
   "metadata": {},
   "source": [
    "# Simulation 1: \n",
    "\n",
    "Both programs below do the same thing. Given a height and a weight, they calculate how long it will take for a object to fall to the ground in a vacuum subjected to normal Earth levels of gravity. \n",
    "\n",
    "However, the second one is a simulation. It calculates the distance the object has fallen every 0.1 seconds. This is useful for if you wanted a visual representation of a falling object, which pure math can't do as smoothly. "
   ]
  },
  {
   "cell_type": "code",
   "execution_count": 2,
   "metadata": {},
   "outputs": [
    {
     "name": "stdout",
     "output_type": "stream",
     "text": [
      "It will take 1.0101525445522108 seconds for an object that weighs 4 pounds to fall  5.0 meters in a vacuum\n"
     ]
    }
   ],
   "source": [
    "height = float(input(\"height in meters?\"))\n",
    "\n",
    "weight = input(\"weight in pounds?\")\n",
    "\n",
    "stuff = (2 * (height / 9.8))**(1/2)\n",
    "\n",
    "print(\"It will take\", stuff,\"seconds for an object that weighs\",weight,\"pounds\",\"to fall \",height,\"meters in a vacuum\")"
   ]
  },
  {
   "cell_type": "code",
   "execution_count": 3,
   "metadata": {},
   "outputs": [
    {
     "name": "stdout",
     "output_type": "stream",
     "text": [
      "1.0999999999999999\n",
      "5.928999999999999\n"
     ]
    }
   ],
   "source": [
    "t = 0\n",
    "g = 0\n",
    "d = 0\n",
    "false = True\n",
    "while false:\n",
    "    t = t + 0.1\n",
    "    d = 9.8 / 2 * (t**2)\n",
    "    if d >= height:\n",
    "        false = False\n",
    "    #print(d) # if you want to print the distance every time it calculates it. Too long to output to a terminal, but this could be useful to display graphically. \n",
    "    #print(t)\n",
    "\n",
    "print(t)\n",
    "print(d)"
   ]
  },
  {
   "attachments": {},
   "cell_type": "markdown",
   "metadata": {},
   "source": [
    "# Simulation 2: \n",
    "\n",
    "- This simulation is made in order to simulate movement on a 2d plane vs a 3d plane.  \n",
    "\n",
    "- How it works: we have multiple variables, if statements and equations under a while command in order to randomy generate steps on a 2d plane. Once it reaches the set destination, it will say that the man made it home after x amount of steps. \n",
    "\n",
    "- For the 3D plane, it takes a lot longer due to how big and open the 3d environment is, so there are more if statements in the 3d plane \n",
    "\n",
    "(explain further)\n",
    "\n"
   ]
  },
  {
   "cell_type": "code",
   "execution_count": null,
   "metadata": {},
   "outputs": [],
   "source": [
    "import random\n",
    "x = 0\n",
    "y = 0\n",
    "nights = 0\n",
    "turn = 0\n",
    "stopped = 0\n",
    "turns = []\n",
    "\n",
    "while (nights < 100):\n",
    "    step = random.randrange(4)\n",
    "    if step == 0:\n",
    "        x = x+1\n",
    "    if step == 1:\n",
    "        x = x-1\n",
    "    if step == 2:\n",
    "        y = y+1\n",
    "    if step == 3:\n",
    "        y = y-1\n",
    "\n",
    "    turn = turn + 1\n",
    "\n",
    "    if x == 0 and y == 0:\n",
    "        nights = nights + 1\n",
    "        print(\"The Man Has Made It Home After \", turn, \"Turns\")\n",
    "        turns.append(turn)\n",
    "        turn = 0\n",
    "    if turn/1000 % 1000 == 0 and x + y != 0:\n",
    "        print(\"(\", x,y, \")\")\n",
    "    if (turn > 10000000):\n",
    "        stopped = stopped + 1\n",
    "        turn = 0\n",
    "        x = 0\n",
    "        y = 0\n",
    "        nights = nights + 1\n",
    "        print(\"Caped\")\n",
    "\n",
    "average = sum(turns) / len(turns)\n",
    "print(\"Avaerage\", average, \"Ones that when't too long \", stopped)"
   ]
  },
  {
   "cell_type": "code",
   "execution_count": null,
   "metadata": {},
   "outputs": [],
   "source": [
    "import random\n",
    "x = 0\n",
    "y = 0\n",
    "z = 0\n",
    "nights = 0\n",
    "turn = 0\n",
    "stopped = 0\n",
    "turns = []\n",
    "\n",
    "while (nights < 100):\n",
    "    #rando movement\n",
    "    step = random.randrange(6)\n",
    "    if step == 0:\n",
    "        x = x+1\n",
    "    if step == 1:\n",
    "        x = x-1\n",
    "    if step == 2:\n",
    "        y = y+1\n",
    "    if step == 3:\n",
    "        y = y-1\n",
    "    if step == 4:\n",
    "        z = z+1\n",
    "    if step == 5:\n",
    "        z = z-1\n",
    "    #Turn counter\n",
    "    turn = turn + 1\n",
    "    #Goal check\n",
    "    if x == 0 and y == 0 and z == 0:\n",
    "        nights = nights + 1\n",
    "        print(\"The Bird Has Made It Home After \", turn, \"Turns\")\n",
    "        turns.append(turn)\n",
    "        turn = 0\n",
    "    if turn/1000 % 1000 == 0 and x + y + z != 0:\n",
    "        print(\"(\", x,y, \") \",\"| \", z)\n",
    "    #Too long Stoper\n",
    "    if (turn > 10000000):\n",
    "        stopped = stopped + 1\n",
    "        turn = 0\n",
    "        x = 0\n",
    "        y = 0\n",
    "        z = 0\n",
    "        nights = nights + 1\n",
    "        print(\"Caped\")\n",
    "\n",
    "average = sum(turns) / len(turns)\n",
    "print(\"Avaerage\", average,\"Ones that when't too long \", stopped)"
   ]
  },
  {
   "attachments": {},
   "cell_type": "markdown",
   "metadata": {},
   "source": [
    "# Simulations in the wild\n",
    "\n",
    "Simulations are used extremely frequently in real life applications. One of the most common examples of simulations are video games. A games physics engine can accurately simulate objects colliding \n",
    "\n",
    "Another example is Blender, the software used in 3d animations class, here at Del Norte. Blender is made up of many small simulations, but one big one it uses is simulating the way light bounces off of and interacts with objects. "
   ]
  },
  {
   "attachments": {},
   "cell_type": "markdown",
   "metadata": {},
   "source": [
    "# HW !!!\n",
    "\n",
    "There are several video game engines that can use simulations created with Python. Some examples include the Unreal Engine, CryEngine, and the Panda3D game engine. Python can be used to create complex simulations for use in video games, and many game developers use it for this purpose. Some game engines even have built-in support for Python, making it easy to integrate Python simulations into your game.\n",
    "\n",
    "Other examples include the popular Unreal Engine and Unity, as well as CryEngine and Godot. Python can be used to create game logic, AI, and other gameplay elements in these engines. It can also be used for scripting and automating tasks, such as building levels or performing analytics on game data.\n",
    "\n",
    "Using Python to create simulations for video games has several advantages. Python is a high-level language, which means that it is easy to read and understand. This makes it a good choice for developing complex simulations that would be difficult to implement in a lower-level language. Additionally, Python has a large and active community of users, which means that there are many resources available to help developers create simulations using the language.\n",
    "\n",
    "Overall, the use of Python for creating simulations in video games allows developers to create complex and realistic environments and scenarios in their games, enhancing the player experience.\n",
    "\n",
    "![img1](https://github.com/manigggg18/manimani/blob/master/images/1B7KP.png?raw=true)\n",
    "![img1](https://github.com/manigggg18/manimani/blob/master/images/maxresdefault.jpg?raw=true)"
   ]
  },
  {
   "cell_type": "code",
   "execution_count": 3,
   "metadata": {},
   "outputs": [
    {
     "name": "stdout",
     "output_type": "stream",
     "text": [
      "Time: 0.1 s | Position: 51.0 m | Velocity: 9.0 m/s\n",
      "Time: 0.2 s | Position: 51.9 m | Velocity: 8.0 m/s\n",
      "Time: 0.3 s | Position: 52.7 m | Velocity: 7.1 m/s\n",
      "Time: 0.4 s | Position: 53.4 m | Velocity: 6.1 m/s\n",
      "Time: 0.5 s | Position: 54.0 m | Velocity: 5.1 m/s\n",
      "Time: 0.6 s | Position: 54.5 m | Velocity: 4.1 m/s\n",
      "Time: 0.7 s | Position: 54.9 m | Velocity: 3.1 m/s\n",
      "Time: 0.8 s | Position: 55.3 m | Velocity: 2.2 m/s\n",
      "Time: 0.9 s | Position: 55.5 m | Velocity: 1.2 m/s\n",
      "Time: 1.0 s | Position: 55.6 m | Velocity: 0.2 m/s\n",
      "Time: 1.1 s | Position: 55.6 m | Velocity: -0.8 m/s\n",
      "Time: 1.2 s | Position: 55.5 m | Velocity: -1.8 m/s\n",
      "Time: 1.3 s | Position: 55.4 m | Velocity: -2.7 m/s\n",
      "Time: 1.4 s | Position: 55.1 m | Velocity: -3.7 m/s\n",
      "Time: 1.5 s | Position: 54.7 m | Velocity: -4.7 m/s\n",
      "Time: 1.6 s | Position: 54.2 m | Velocity: -5.7 m/s\n",
      "Time: 1.7 s | Position: 53.7 m | Velocity: -6.7 m/s\n",
      "Time: 1.8 s | Position: 53.0 m | Velocity: -7.6 m/s\n",
      "Time: 1.9 s | Position: 52.2 m | Velocity: -8.6 m/s\n",
      "Time: 2.0 s | Position: 51.4 m | Velocity: -9.6 m/s\n",
      "Time: 2.1 s | Position: 50.4 m | Velocity: -10.6 m/s\n",
      "Time: 2.2 s | Position: 49.4 m | Velocity: -11.6 m/s\n",
      "Time: 2.3 s | Position: 48.2 m | Velocity: -12.5 m/s\n",
      "Time: 2.4 s | Position: 47.0 m | Velocity: -13.5 m/s\n",
      "Time: 2.5 s | Position: 45.6 m | Velocity: -14.5 m/s\n",
      "Time: 2.6 s | Position: 44.1 m | Velocity: -15.5 m/s\n",
      "Time: 2.7 s | Position: 42.6 m | Velocity: -16.5 m/s\n",
      "Time: 2.8 s | Position: 41.0 m | Velocity: -17.4 m/s\n",
      "Time: 2.9 s | Position: 39.2 m | Velocity: -18.4 m/s\n",
      "Time: 3.0 s | Position: 37.4 m | Velocity: -19.4 m/s\n",
      "Time: 3.1 s | Position: 35.4 m | Velocity: -20.4 m/s\n",
      "Time: 3.2 s | Position: 33.4 m | Velocity: -21.4 m/s\n",
      "Time: 3.3 s | Position: 31.3 m | Velocity: -22.3 m/s\n",
      "Time: 3.4 s | Position: 29.0 m | Velocity: -23.3 m/s\n",
      "Time: 3.5 s | Position: 26.7 m | Velocity: -24.3 m/s\n",
      "Time: 3.6 s | Position: 24.3 m | Velocity: -25.3 m/s\n",
      "Time: 3.7 s | Position: 21.7 m | Velocity: -26.3 m/s\n",
      "Time: 3.8 s | Position: 19.1 m | Velocity: -27.2 m/s\n",
      "Time: 3.9 s | Position: 16.4 m | Velocity: -28.2 m/s\n",
      "Time: 4.0 s | Position: 13.6 m | Velocity: -29.2 m/s\n",
      "Time: 4.1 s | Position: 10.6 m | Velocity: -30.2 m/s\n",
      "Time: 4.2 s | Position: 7.6 m | Velocity: -31.2 m/s\n",
      "Time: 4.3 s | Position: 4.5 m | Velocity: -32.1 m/s\n",
      "Time: 4.4 s | Position: 1.3 m | Velocity: -33.1 m/s\n",
      "Time: 4.5 s | Position: -2.0 m | Velocity: 34.1 m/s\n",
      "Time: 4.6 s | Position: 1.4 m | Velocity: 33.1 m/s\n",
      "Time: 4.7 s | Position: 4.7 m | Velocity: 32.1 m/s\n",
      "Time: 4.8 s | Position: 7.9 m | Velocity: 31.2 m/s\n",
      "Time: 4.9 s | Position: 11.0 m | Velocity: 30.2 m/s\n",
      "Time: 5.0 s | Position: 14.0 m | Velocity: 29.2 m/s\n",
      "Time: 5.1 s | Position: 17.0 m | Velocity: 28.2 m/s\n"
     ]
    }
   ],
   "source": [
    "# Define the initial position and velocity of the ball\n",
    "pos = 50  # The ball is initially 50 units above the ground\n",
    "vel = 10  # The ball is initially moving upwards at a velocity of 10 units/second\n",
    "\n",
    "# Define the acceleration due to gravity\n",
    "g = -9.8  # The acceleration due to gravity is 9.8 m/s^2 downwards\n",
    "\n",
    "# Define the timestep (the interval at which we will update the position of the ball)\n",
    "dt = 0.1  # We will update the position of the ball every 0.1 seconds\n",
    "\n",
    "# Define a variable to keep track of the time\n",
    "time = 0\n",
    "\n",
    "# Define the main loop of the simulation\n",
    "while True:\n",
    "    # Update the position of the ball using the formula:\n",
    "    # pos = pos + vel * dt\n",
    "    pos = pos + vel * dt\n",
    "\n",
    "    # Update the velocity of the ball using the formula:\n",
    "    # vel = vel + g * dt\n",
    "    vel = vel + g * dt\n",
    "\n",
    "    # If the ball hits the ground (if its position is less than or equal to 0), reverse its direction\n",
    "    if pos <= 0:\n",
    "        vel = -vel\n",
    "\n",
    "    # Increment the time by the timestep\n",
    "    time = time + dt\n",
    "\n",
    "    # Print the current position and velocity of the ball\n",
    "    print(f\"Time: {time:.1f} s | Position: {pos:.1f} m | Velocity: {vel:.1f} m/s\")\n",
    "\n",
    "    # End the simulation after 5 seconds\n",
    "    if time >= 5:\n",
    "        break"
   ]
  }
 ],
 "metadata": {
  "kernelspec": {
   "display_name": "Python 3",
   "language": "python",
   "name": "python3"
  },
  "language_info": {
   "codemirror_mode": {
    "name": "ipython",
    "version": 3
   },
   "file_extension": ".py",
   "mimetype": "text/x-python",
   "name": "python",
   "nbconvert_exporter": "python",
   "pygments_lexer": "ipython3",
   "version": "3.8.10"
  },
  "orig_nbformat": 4,
  "vscode": {
   "interpreter": {
    "hash": "916dbcbb3f70747c44a77c7bcd40155683ae19c65e1c03b4aa3499c5328201f1"
   }
  }
 },
 "nbformat": 4,
 "nbformat_minor": 2
}
