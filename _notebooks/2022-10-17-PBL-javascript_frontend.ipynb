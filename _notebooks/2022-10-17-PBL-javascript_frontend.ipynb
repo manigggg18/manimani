{
 "cells": [
  {
   "cell_type": "markdown",
   "metadata": {},
   "source": [
    "# Javascript Web Page using an API\n",
    "- toc: false\n",
    "- comments: true\n",
    "- permalink: /webfrontend"
   ]
  },
  {
   "cell_type": "code",
   "execution_count": 4,
   "metadata": {},
   "outputs": [
    {
     "ename": "SyntaxError",
     "evalue": "Unexpected token <",
     "output_type": "error",
     "traceback": [
      "evalmachine.<anonymous>:1",
      "<table>",
      "^",
      "",
      "SyntaxError: Unexpected token <",
      "    at createScript (vm.js:56:10)",
      "    at Object.runInThisContext (vm.js:97:10)",
      "    at run ([eval]:1020:15)",
      "    at onRunRequest ([eval]:864:18)",
      "    at onMessage ([eval]:828:13)",
      "    at emitTwo (events.js:106:13)",
      "    at process.emit (events.js:191:7)",
      "    at process.nextTick (internal/child_process.js:758:12)",
      "    at _combinedTickCallback (internal/process/next_tick.js:73:7)",
      "    at process._tickCallback (internal/process/next_tick.js:104:9)"
     ]
    }
   ],
   "source": [
    "<table>\n",
    "  <thead>\n",
    "  <tr>\n",
    "    <th>Song</th>\n",
    "    <th>Banger</th>\n",
    "    <th>Not Banger</th>\n",
    "  </tr>\n",
    "  </thead>\n",
    "  <tbody id=\"result\">\n",
    "  </tbody>\n",
    "</table>"
   ]
  },
  {
   "cell_type": "code",
   "execution_count": 5,
   "metadata": {},
   "outputs": [
    {
     "ename": "SyntaxError",
     "evalue": "Unexpected token ...",
     "output_type": "error",
     "traceback": [
      "evalmachine.<anonymous>:20",
      "const put_options = {...options, method: 'PUT'}; ",
      "                     ^^^",
      "",
      "SyntaxError: Unexpected token ...",
      "    at createScript (vm.js:56:10)",
      "    at Object.runInThisContext (vm.js:97:10)",
      "    at run ([eval]:1020:15)",
      "    at onRunRequest ([eval]:864:18)",
      "    at onMessage ([eval]:828:13)",
      "    at emitTwo (events.js:106:13)",
      "    at process.emit (events.js:191:7)",
      "    at process.nextTick (internal/child_process.js:758:12)",
      "    at _combinedTickCallback (internal/process/next_tick.js:73:7)",
      "    at process._tickCallback (internal/process/next_tick.js:104:9)"
     ]
    }
   ],
   "source": [
    "const resultContainer = document.getElementById(\"result\");\n",
    "\n",
    "const BANGER = \"banger\";\n",
    "const NOT = \"not banger\";\n",
    "\n",
    "const url = \"https://flask.maniflpt.com/api/jokes\";\n",
    "const like_url = url + \"/like/\";  \n",
    "const jeer_url = url + \"/jeer/\";  \n",
    "\n",
    "const options = {\n",
    "  method: 'GET',\n",
    "  mode: 'cors',\n",
    "  cache: 'default',\n",
    "  credentials: 'omit',\n",
    "  headers: {\n",
    "    'Content-Type': 'application/json'\n",
    "  },\n",
    "};\n",
    "\n",
    "const put_options = {...options, method: 'PUT'}; "
   ]
  },
  {
   "cell_type": "code",
   "execution_count": 6,
   "metadata": {},
   "outputs": [
    {
     "ename": "ReferenceError",
     "evalue": "fetch is not defined",
     "output_type": "error",
     "traceback": [
      "evalmachine.<anonymous>:1",
      "fetch(url, options)",
      "^",
      "",
      "ReferenceError: fetch is not defined",
      "    at evalmachine.<anonymous>:1:1",
      "    at ContextifyScript.Script.runInThisContext (vm.js:25:33)",
      "    at Object.runInThisContext (vm.js:97:38)",
      "    at run ([eval]:1020:15)",
      "    at onRunRequest ([eval]:864:18)",
      "    at onMessage ([eval]:828:13)",
      "    at emitTwo (events.js:106:13)",
      "    at process.emit (events.js:191:7)",
      "    at process.nextTick (internal/child_process.js:758:12)",
      "    at _combinedTickCallback (internal/process/next_tick.js:73:7)"
     ]
    }
   ],
   "source": [
    "fetch(url, options)\n",
    "  .then(response => {\n",
    "    if (response.status !== 200) {\n",
    "        error('GET API response failure: ' + response.status);\n",
    "        return;\n",
    "    }\n",
    "    response.json().then(data => {\n",
    "        console.log(data);\n",
    "        for (const row of data) {\n",
    "          const tr = document.createElement(\"tr\");\n",
    "          \n",
    "          const song = document.createElement(\"td\");\n",
    "            song.innerHTML = row.id + \". \" + row.song;  \n",
    "\n",
    "          const banger = document.createElement(\"td\");\n",
    "            const banger = document.createElement('button');\n",
    "            banger_but.id = BANGER+row.id   \n",
    "            banger_but.innerHTML = row.banger;  \n",
    "            banger_but.onclick = function () {\n",
    "              reaction(BANGER, like_url+row.id, banger_but.id);  \n",
    "            };\n",
    "            banger.appendChild(banger_but);\n",
    "\n",
    "          const not = document.createElement(\"td\");\n",
    "            const not_but = document.createElement('button');\n",
    "            not_but.id = NOT+row.id\n",
    "            not_but.innerHTML = row.not;  \n",
    "            not_but.onclick = function () {\n",
    "              reaction(NOT, jeer_url+row.id, not_but.id);  \n",
    "            };\n",
    "            boohoo.appendChild(not_but); \n",
    "            \n",
    "          tr.appendChild(song);\n",
    "          tr.appendChild(banger);\n",
    "          tr.appendChild(not);\n",
    "\n",
    "          resultContainer.appendChild(tr);\n",
    "        }\n",
    "    })\n",
    "})\n",
    "\n",
    ".catch(err => {\n",
    "  error(err + \" \" + url);\n",
    "});"
   ]
  },
  {
   "cell_type": "code",
   "execution_count": 7,
   "metadata": {},
   "outputs": [],
   "source": [
    "function reaction(type, put_url, elemID) {\n",
    "\n",
    "  fetch(put_url, put_options)\n",
    "  .then(response => {\n",
    "    if (response.status !== 200) {\n",
    "        error(\"PUT API response failure: \" + response.status)\n",
    "        return;  \n",
    "    }\n",
    "    response.json().then(data => {\n",
    "        console.log(data);\n",
    "        if (type === BANGER) \n",
    "          document.getElementById(elemID).innerHTML = data.banger;  \n",
    "        else if (type === NOT) \n",
    "          document.getElementById(elemID).innerHTML = data.not; \n",
    "        else\n",
    "          error(\"unknown type: \" + type);  \n",
    "    })\n",
    "  })\n",
    "  .catch(err => {\n",
    "    error(err + \" \" + put_url);\n",
    "  });\n",
    "  \n",
    "}\n",
    "  \n",
    "function error(err) {\n",
    "  console.error(err);\n",
    "  const tr = document.createElement(\"tr\");\n",
    "  const td = document.createElement(\"td\");\n",
    "  td.innerHTML = err;\n",
    "  tr.appendChild(td);\n",
    "  resultContainer.appendChild(tr);\n",
    "}"
   ]
  }
 ],
 "metadata": {
  "kernelspec": {
   "display_name": "JavaScript (Node.js)",
   "language": "javascript",
   "name": "javascript"
  },
  "language_info": {
   "file_extension": ".js",
   "mimetype": "application/javascript",
   "name": "javascript",
   "version": "6.11.2"
  },
  "orig_nbformat": 4,
  "vscode": {
   "interpreter": {
    "hash": "aee8b7b246df8f9039afb4144a1f6fd8d2ca17a180786b69acc140d282b71a49"
   }
  }
 },
 "nbformat": 4,
 "nbformat_minor": 2
}
