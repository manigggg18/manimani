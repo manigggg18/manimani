{
 "cells": [
  {
   "attachments": {},
   "cell_type": "markdown",
   "metadata": {},
   "source": [
    "#  Commits Since Ski Week\n",
    "\n",
    "- toc: true\n",
    "- permalink: /skw\n",
    "- categories: [jupyter]"
   ]
  },
  {
   "attachments": {},
   "cell_type": "markdown",
   "metadata": {},
   "source": [
    "## Overview\n",
    "\n",
    "Since Ski Week, I have contributed to three different repositories: my personal blog, CPT frontend, and CPT backend.\n",
    "\n",
    "![sml](https://github.com/manigggg18/manimani/blob/master/images/cm5.png?raw=true)\n",
    "\n",
    "---\n",
    "---\n",
    "\n",
    "### Personal Blog\n",
    "\n",
    "![sml](https://github.com/manigggg18/manimani/blob/master/images/cm.png?raw=true)\n",
    "\n",
    "![sml](https://github.com/manigggg18/manimani/blob/master/images/cm2.png?raw=true)\n",
    "\n",
    "---\n",
    "---\n",
    "\n",
    "### CPT Frontend\n",
    "\n",
    "![sml](https://github.com/manigggg18/manimani/blob/master/images/cm3.png?raw=true)\n",
    "\n",
    "![sml](https://github.com/manigggg18/manimani/blob/master/images/cm4.png?raw=true)\n",
    "\n",
    "---\n",
    "---\n",
    "\n",
    "### CPT Backend \n",
    "\n",
    "![sml](https://github.com/manigggg18/manimani/blob/master/images/cm6.png?raw=true)\n",
    "\n",
    "![sml](https://github.com/manigggg18/manimani/blob/master/images/cm7.png?raw=true)"
   ]
  }
 ],
 "metadata": {
  "language_info": {
   "name": "python"
  },
  "orig_nbformat": 4
 },
 "nbformat": 4,
 "nbformat_minor": 2
}
