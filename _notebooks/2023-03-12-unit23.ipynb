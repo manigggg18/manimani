{
 "cells": [
  {
   "attachments": {},
   "cell_type": "markdown",
   "metadata": {},
   "source": [
    "#  Unit  2.3 Extracting Information from Data, Pandas\n",
    "> Data connections, trends, and correlation.  Pandas is introduced as it could be valuable for PBL, data validation, as well as understanding College Board Topics.\n",
    "\n",
    "- title: Unit 2.3 Extracting Information from Data, Pandas\n",
    "- branch: master\n",
    "- badges: true\n",
    "- comments: true\n",
    "- permalink: /unit23\n",
    "- categories: [jupyter]"
   ]
  },
  {
   "attachments": {},
   "cell_type": "markdown",
   "metadata": {},
   "source": [
    "# Pandas and DataFrames\n",
    "> In this lesson we will be exploring data analysis using Pandas.  \n",
    "\n",
    "- College Board talks about ideas like \n",
    "    - Tools. \"the ability to process data depends on users capabilities and their tools\"\n",
    "    - Combining Data.  \"combine county data sets\"\n",
    "    - Status on Data\"determining the artist with the greatest attendance during a particular month\"\n",
    "    - Data poses challenge. \"the need to clean data\", \"incomplete data\"\n",
    "\n",
    "\n",
    "- [From Pandas Overview](https://pandas.pydata.org/docs/getting_started/index.html) -- When working with tabular data, such as data stored in spreadsheets or databases, pandas is the right tool for you. pandas will help you to explore, clean, and process your data. In pandas, a data table is called a DataFrame.\n",
    "\n",
    "\n",
    "![DataFrame](images/table_dataframe.png)"
   ]
  },
  {
   "cell_type": "code",
   "execution_count": 1,
   "metadata": {},
   "outputs": [],
   "source": [
    "'''Pandas is used to gather data sets through its DataFrames implementation'''\n",
    "import pandas as pd"
   ]
  },
  {
   "attachments": {},
   "cell_type": "markdown",
   "metadata": {},
   "source": [
    "## Notes and Observations #1\n",
    "\n",
    "- **Imports the Pandas library and renames it to \"pd\".**\n",
    "\n",
    "# Cleaning Data\n",
    "\n",
    "When looking at a data set, check to see what data needs to be cleaned. Examples include:\n",
    "- Missing Data Points\n",
    "- Invalid Data\n",
    "- Inaccurate Data\n",
    "\n",
    "Run the following code to see what needs to be cleaned"
   ]
  },
  {
   "cell_type": "code",
   "execution_count": 2,
   "metadata": {},
   "outputs": [
    {
     "name": "stdout",
     "output_type": "stream",
     "text": [
      "   Student ID Year in School   GPA\n",
      "0         123             12  3.57\n",
      "1         246             10  4.00\n",
      "2         578             12  2.78\n",
      "3         469             11  3.45\n",
      "4         324         Junior  4.75\n",
      "5         313             20  3.33\n",
      "6         145             12  2.95\n",
      "7         167             10  3.90\n",
      "8         235      9th Grade  3.15\n",
      "9         nil              9  2.80\n",
      "10        469             11  3.45\n",
      "11        456             10  2.75\n"
     ]
    }
   ],
   "source": [
    "# reads the JSON file and converts it to a Pandas DataFrame\n",
    "df = pd.read_json('files/grade.json')\n",
    "\n",
    "print(df)\n",
    "# What part of the data set needs to be cleaned?\n",
    "# From PBL learning, what is a good time to clean data?  Hint, remember Garbage in, Garbage out?"
   ]
  },
  {
   "attachments": {},
   "cell_type": "markdown",
   "metadata": {},
   "source": [
    "## Notes and Observations #2\n",
    "\n",
    "- **Uses Pandas to read in data from a JSON file named \"grade.json\" located in the \"files\" directory**.\n",
    "\n",
    "# Extracting Info\n",
    "\n",
    "Take a look at some features that the Pandas library has that extracts info from the dataset\n",
    "\n",
    "## DataFrame Extract Column"
   ]
  },
  {
   "cell_type": "code",
   "execution_count": 3,
   "metadata": {},
   "outputs": [
    {
     "name": "stdout",
     "output_type": "stream",
     "text": [
      "     GPA\n",
      "0   3.57\n",
      "1   4.00\n",
      "2   2.78\n",
      "3   3.45\n",
      "4   4.75\n",
      "5   3.33\n",
      "6   2.95\n",
      "7   3.90\n",
      "8   3.15\n",
      "9   2.80\n",
      "10  3.45\n",
      "11  2.75\n",
      "\n",
      "Student ID  GPA\n",
      "       123 3.57\n",
      "       246 4.00\n",
      "       578 2.78\n",
      "       469 3.45\n",
      "       324 4.75\n",
      "       313 3.33\n",
      "       145 2.95\n",
      "       167 3.90\n",
      "       235 3.15\n",
      "       nil 2.80\n",
      "       469 3.45\n",
      "       456 2.75\n"
     ]
    }
   ],
   "source": [
    "#print the values in the points column with column header\n",
    "print(df[['GPA']])\n",
    "\n",
    "print()\n",
    "\n",
    "#try two columns and remove the index from print statement\n",
    "print(df[['Student ID','GPA']].to_string(index=False))"
   ]
  },
  {
   "attachments": {},
   "cell_type": "markdown",
   "metadata": {},
   "source": [
    "## Notes and Observations #2\n",
    "\n",
    "- **Two separate print statements:**\n",
    " \n",
    "  - **1: Uses double brackets to extract a single column (GPA) of data from the DataFrame.**\n",
    " \n",
    "    - **Output: GPA column only.**\n",
    "  \n",
    "  - **2: Uses double brackets to extract two columns of data from the DataFrame: \"Student ID\" and \"GPA\".**\n",
    " \n",
    "    - **Printed using the \"to_string()\" method.**\n",
    "\n",
    "    - **The \"index=False\" argument ensures that the DataFrame is printed without row numbers.**\n",
    "\n",
    "## DataFrame Sort"
   ]
  },
  {
   "cell_type": "code",
   "execution_count": 4,
   "metadata": {},
   "outputs": [
    {
     "name": "stdout",
     "output_type": "stream",
     "text": [
      "   Student ID Year in School   GPA\n",
      "11        456             10  2.75\n",
      "2         578             12  2.78\n",
      "9         nil              9  2.80\n",
      "6         145             12  2.95\n",
      "8         235      9th Grade  3.15\n",
      "5         313             20  3.33\n",
      "3         469             11  3.45\n",
      "10        469             11  3.45\n",
      "0         123             12  3.57\n",
      "7         167             10  3.90\n",
      "1         246             10  4.00\n",
      "4         324         Junior  4.75\n",
      "\n",
      "   Student ID Year in School   GPA\n",
      "4         324         Junior  4.75\n",
      "1         246             10  4.00\n",
      "7         167             10  3.90\n",
      "0         123             12  3.57\n",
      "3         469             11  3.45\n",
      "10        469             11  3.45\n",
      "5         313             20  3.33\n",
      "8         235      9th Grade  3.15\n",
      "6         145             12  2.95\n",
      "9         nil              9  2.80\n",
      "2         578             12  2.78\n",
      "11        456             10  2.75\n"
     ]
    }
   ],
   "source": [
    "#sort values\n",
    "print(df.sort_values(by=['GPA']))\n",
    "\n",
    "print()\n",
    "\n",
    "#sort the values in reverse order\n",
    "print(df.sort_values(by=['GPA'], ascending=False))"
   ]
  },
  {
   "attachments": {},
   "cell_type": "markdown",
   "metadata": {},
   "source": [
    "## Notes and Observations #3\n",
    "\n",
    "- **Two separate print statements**\n",
    "\n",
    "  - **1: Uses the \"sort_values()\" method to sort the DataFrame by the \"GPA\" column from lowest to highest.**\n",
    "\n",
    "    - **Output: DataFrame that displays the rows sorted by GPA from lowest to highest.**\n",
    "    \n",
    "  - **2: Uses the same \"sort_values()\" method**\n",
    "\n",
    "    - **The \"ascending\" argument is set to \"False\"**\n",
    "    \n",
    "    - **Output: new DataFrame that displays the rows sorted by GPA from highest to lowest.** \n",
    "\n",
    "## DataFrame Selection or Filter"
   ]
  },
  {
   "cell_type": "code",
   "execution_count": 5,
   "metadata": {},
   "outputs": [
    {
     "name": "stdout",
     "output_type": "stream",
     "text": [
      "   Student ID Year in School   GPA\n",
      "0         123             12  3.57\n",
      "1         246             10  4.00\n",
      "3         469             11  3.45\n",
      "4         324         Junior  4.75\n",
      "5         313             20  3.33\n",
      "7         167             10  3.90\n",
      "8         235      9th Grade  3.15\n",
      "10        469             11  3.45\n"
     ]
    }
   ],
   "source": [
    "#print only values with a specific criteria \n",
    "print(df[df.GPA > 3.00])"
   ]
  },
  {
   "attachments": {},
   "cell_type": "markdown",
   "metadata": {},
   "source": [
    "## Notes and Observations #4\n",
    "\n",
    "- **Uses Pandas to filter data from a DataFrame based on the condition `df.GPA > 3.00`.**\n",
    "\n",
    "## DataFrame Selection Max and Min"
   ]
  },
  {
   "cell_type": "code",
   "execution_count": 6,
   "metadata": {},
   "outputs": [
    {
     "name": "stdout",
     "output_type": "stream",
     "text": [
      "  Student ID Year in School   GPA\n",
      "4        324         Junior  4.75\n",
      "\n",
      "   Student ID Year in School   GPA\n",
      "11        456             10  2.75\n"
     ]
    }
   ],
   "source": [
    "print(df[df.GPA == df.GPA.max()])\n",
    "print()\n",
    "print(df[df.GPA == df.GPA.min()])"
   ]
  },
  {
   "attachments": {},
   "cell_type": "markdown",
   "metadata": {},
   "source": [
    "## Notes and Observations #5\n",
    "\n",
    "- **Uses Pandas to filter data from a DataFrame based on the maximum and minimum values of the \"GPA\" column.**\n",
    "\n",
    "- **Two separate print statements:**\n",
    "\n",
    "  - **1: Uses boolean indexing to select only the rows where the \"GPA\" column is equal to the maximum value of the \"GPA\" column.**\n",
    "\n",
    "    - **`max()`: Used to find the maximum value in the \"GPA\" column.**\n",
    "\n",
    "    - **Compared to the entire \"GPA\" column using the `==` operator.**\n",
    "\n",
    "    - **Output: New DataFrame that contains only the rows where the \"GPA\" column is equal to the maximum value of the \"GPA\" column.**\n",
    "\n",
    "  - **2: Uses boolean indexing to select only the rows where the \"GPA\" column is equal to the minimum value of the \"GPA\" column.**\n",
    "    \n",
    "    - **`min()`: Used to find the minimum value in the \"GPA\" column.**\n",
    "    \n",
    "    - **Compared to the entire \"GPA\" column using the `==` operator.**\n",
    "\n",
    "    - **Output: New DataFrame that contains only the rows where the \"GPA\" column is equal to the minimum value of the \"GPA\" column.**\n",
    "\n",
    "# Create your own DataFrame\n",
    "\n",
    "Using Pandas allows you to create your own DataFrame in Python.\n",
    "\n",
    "## Python Dictionary to Pandas DataFrame"
   ]
  },
  {
   "cell_type": "code",
   "execution_count": 7,
   "metadata": {},
   "outputs": [
    {
     "name": "stdout",
     "output_type": "stream",
     "text": [
      "-------------Dict_to_DF------------------\n",
      "   calories  duration\n",
      "0       420        50\n",
      "1       380        40\n",
      "2       390        45\n",
      "3       500        55\n",
      "----------Dict_to_DF_labels--------------\n",
      "      calories  duration\n",
      "day1       420        50\n",
      "day2       380        40\n",
      "day3       390        45\n",
      "day4       500        55\n"
     ]
    }
   ],
   "source": [
    "import pandas as pd\n",
    "\n",
    "#the data can be stored as a python dictionary\n",
    "dict = {\n",
    "  \"calories\": [420, 380, 390, 500],\n",
    "  \"duration\": [50, 40, 45, 55]\n",
    "}\n",
    "#stores the data in a data frame\n",
    "print(\"-------------Dict_to_DF------------------\")\n",
    "df = pd.DataFrame(dict)\n",
    "print(df)\n",
    "\n",
    "print(\"----------Dict_to_DF_labels--------------\")\n",
    "\n",
    "#or with the index argument, you can label rows.\n",
    "df = pd.DataFrame(dict, index = [\"day1\", \"day2\", \"day3\", \"day4\"])\n",
    "print(df)"
   ]
  },
  {
   "attachments": {},
   "cell_type": "markdown",
   "metadata": {},
   "source": [
    "## Notes and Observations #6\n",
    "\n",
    "- **Imports the pandas library using the shorthand `pd`.**\n",
    "\n",
    "- **Creates a dictionary named `dict` that contains two lists:** \n",
    "\n",
    "  - **`calories`** \n",
    "\n",
    "  - **`duration`**\n",
    "\n",
    "- **Converts the dictionary `dict` into a Pandas DataFrame.**\n",
    "  \n",
    "  - **The resulting DataFrame is printed to the console using the `print()` function.**\n",
    "\n",
    "- **Creates another DataFrame by passing the dictionary `dict` as well as a list of strings as arguments to the `pd.DataFrame()` method.**\n",
    "\n",
    "  - **DataFrame is printed to the console using the `print()` function.**\n",
    "\n",
    "## Examine DataFrame Rows"
   ]
  },
  {
   "cell_type": "code",
   "execution_count": 8,
   "metadata": {},
   "outputs": [
    {
     "name": "stdout",
     "output_type": "stream",
     "text": [
      "-------Examine Selected Rows---------\n",
      "      calories  duration\n",
      "day1       420        50\n",
      "day3       390        45\n",
      "--------Examine Single Row-----------\n",
      "calories    420\n",
      "duration     50\n",
      "Name: day1, dtype: int64\n"
     ]
    }
   ],
   "source": [
    "print(\"-------Examine Selected Rows---------\")\n",
    "#use a list for multiple labels:\n",
    "print(df.loc[[\"day1\", \"day3\"]])\n",
    "\n",
    "#refer to the row index:\n",
    "print(\"--------Examine Single Row-----------\")\n",
    "print(df.loc[\"day1\"])"
   ]
  },
  {
   "attachments": {},
   "cell_type": "markdown",
   "metadata": {},
   "source": [
    "## Notes and Observations #6\n",
    "\n",
    "- **Prints the string `-------Examine Selected Rows---------` to the console using the `print()` function.**\n",
    "\n",
    "- **Selects and prints specific rows of the DataFrame `df` using the `loc[]` method and a list of strings.**\n",
    "\n",
    "- **Prints the string `--------Examine Single Row-----------` to the console using the `print()` function.**\n",
    "\n",
    "- **Selects and prints a single row of the DataFrame `df` using the `loc[]` method and a single string.**\n",
    "\n",
    "## Pandas DataFrame Information"
   ]
  },
  {
   "cell_type": "code",
   "execution_count": 9,
   "metadata": {},
   "outputs": [
    {
     "name": "stdout",
     "output_type": "stream",
     "text": [
      "<class 'pandas.core.frame.DataFrame'>\n",
      "Index: 4 entries, day1 to day4\n",
      "Data columns (total 2 columns):\n",
      " #   Column    Non-Null Count  Dtype\n",
      "---  ------    --------------  -----\n",
      " 0   calories  4 non-null      int64\n",
      " 1   duration  4 non-null      int64\n",
      "dtypes: int64(2)\n",
      "memory usage: 268.0+ bytes\n",
      "None\n"
     ]
    }
   ],
   "source": [
    "#print info about the data set\n",
    "print(df.info())"
   ]
  },
  {
   "attachments": {},
   "cell_type": "markdown",
   "metadata": {},
   "source": [
    "## Notes and Observations #7\n",
    "\n",
    "- **Calls the `info()` method of the DataFrame `df` and prints the resulting information to the console using the `print()` function**\n",
    "\n",
    "# Example of larger data set\n",
    "\n",
    "Pandas can read CSV and many other types of files, run the following code to see more features with a larger data set"
   ]
  },
  {
   "cell_type": "code",
   "execution_count": 10,
   "metadata": {},
   "outputs": [
    {
     "name": "stdout",
     "output_type": "stream",
     "text": [
      "--Duration Top 10---------\n",
      "     Duration  Pulse  Maxpulse  Calories\n",
      "69        300    108       143    1500.2\n",
      "79        270    100       131    1729.0\n",
      "109       210    137       184    1860.4\n",
      "60        210    108       160    1376.0\n",
      "106       180     90       120     800.3\n",
      "90        180    101       127     600.1\n",
      "65        180     90       130     800.4\n",
      "61        160    110       137    1034.4\n",
      "62        160    109       135     853.0\n",
      "67        150    107       130     816.0\n",
      "--Duration Bottom 10------\n",
      "     Duration  Pulse  Maxpulse  Calories\n",
      "68         20    106       136     110.4\n",
      "100        20     95       112      77.7\n",
      "89         20     83       107      50.3\n",
      "135        20    136       156     189.0\n",
      "94         20    150       171     127.4\n",
      "95         20    151       168     229.4\n",
      "139        20    141       162     222.4\n",
      "64         20    110       130     131.4\n",
      "112        15    124       139     124.2\n",
      "93         15     80       100      50.5\n"
     ]
    }
   ],
   "source": [
    "import pandas as pd\n",
    "\n",
    "#read csv and sort 'Duration' largest to smallest\n",
    "df = pd.read_csv('files/data.csv').sort_values(by=['Duration'], ascending=False)\n",
    "\n",
    "print(\"--Duration Top 10---------\")\n",
    "print(df.head(10))\n",
    "\n",
    "print(\"--Duration Bottom 10------\")\n",
    "print(df.tail(10))\n"
   ]
  },
  {
   "attachments": {},
   "cell_type": "markdown",
   "metadata": {},
   "source": [
    "## Notes and Observations #8\n",
    "\n",
    "- **Imports the pandas library using the shorthand `pd`.**\n",
    "\n",
    "- **Reads in a CSV file named `data.csv` using the `pd.read_csv()` method and stores the resulting DataFrame in a variable named `df`.**\n",
    "\n",
    "- **Sorts the DataFrame `df` in descending order based on the values in the `Duration` column using the `sort_values()` method.**\n",
    "\n",
    "- **Prints the string `--Duration Top 10---------` to the console using the `print()` function.**\n",
    "\n",
    "- **Selects and prints the first 10 rows of the sorted DataFrame `df` using the `head()` method.**\n",
    "\n",
    "- **Prints the string `--Duration Bottom 10------` to the console using the `print()` function.**\n",
    "  \n",
    "- **Selects and prints the last 10 rows of the sorted DataFrame `df` using the `tail()` method.**\n",
    "\n",
    "# APIs are a Source for Writing Programs with Data\n",
    "> 3rd Party APIs are a great source for creating Pandas Data Frames.  \n",
    "- Data can be fetched and resulting json can be placed into a Data Frame\n",
    "- Observe output, this looks very similar to a Database"
   ]
  },
  {
   "cell_type": "code",
   "execution_count": 11,
   "metadata": {},
   "outputs": [
    {
     "name": "stdout",
     "output_type": "stream",
     "text": [
      "  country_name       cases     deaths\n",
      "0          USA  82,649,779  1,018,316\n",
      "1        India  43,057,545    522,193\n",
      "2       Brazil  30,345,654    662,663\n",
      "3       France  28,244,977    145,020\n",
      "4      Germany  24,109,433    134,624\n",
      "5           UK  21,933,206    173,352\n"
     ]
    }
   ],
   "source": [
    "'''Pandas can be used to analyze data'''\n",
    "import pandas as pd\n",
    "import requests\n",
    "\n",
    "def fetch():\n",
    "    '''Obtain data from an endpoint'''\n",
    "    url = \"https://flask.nighthawkcodingsociety.com/api/covid/\"\n",
    "    fetch = requests.get(url)\n",
    "    json = fetch.json()\n",
    "\n",
    "    # filter data for requirement\n",
    "    df = pd.DataFrame(json['countries_stat'])  # filter endpoint for country stats\n",
    "    print(df.loc[0:5, 'country_name':'deaths']) # show row 0 through 5 and columns country_name through deaths\n",
    "    \n",
    "fetch()"
   ]
  },
  {
   "attachments": {},
   "cell_type": "markdown",
   "metadata": {},
   "source": [
    "## Notes and Observations #9\n",
    "\n",
    "- **Imports the pandas library using the shorthand `pd` and the requests library.**\n",
    "\n",
    "- **Defines a function named `fetch()` that retrieves data from a remote server.**\n",
    "\n",
    "  - **Creates a variable named `url` that contains the URL of the remote server endpoint.**\n",
    "\n",
    "  - **Sends a `GET` request to the remote server using the `requests.get()` method and stores the response in a variable named `fetch`.**\n",
    " \n",
    "  - **Retrieves the JSON content from the response using the `fetch.json()` method and stores the resulting dictionary in a variable named `json`.**\n",
    "\n",
    "  - **Creates a new DataFrame named `df` by passing the `countries_stat` key from the `json` dictionary to the `pd.DataFrame()` method.**\n",
    "\n",
    "  - **Selects and prints the first 6 rows and the columns from `country_name` to `deaths` using the `loc[]` method and the `print()` function.**\n",
    "\n",
    "  - **Calls itself to execute the code .**\n",
    "\n",
    "## CB 2.3\n",
    "\n",
    "![sml](https://github.com/manigggg18/manimani/blob/master/images/sc.png?raw=true)\n",
    "\n",
    "The Extracting Information from Data Quiz and Using Programs with Data quizzes were relatively harder than the topics discussed in 2.2, but I was able to complete both quizzes with ease and I only missed one problem. However, there were some questions that were trickier than others. There were also a lot of high-quality notes. \n",
    "\n",
    "### Extracting Information from Data\n",
    "\n",
    "#### Challenge in analyzing data from many counties\n",
    "\n",
    "**A team of researchers wants to create a program to analyze the amount of pollution reported in roughly 3,000 counties across the United States. The program is intended to combine county data sets and then process the data. Which of the following is most likely to be a challenge in creating the program?**\n",
    "\n",
    "A: A computer program cannot combine data from different files.\n",
    "\n",
    "B: Different counties may organize data in different ways.\n",
    "\n",
    "C: The number of counties is too large for the program to process.\n",
    "\n",
    "D: The total number of rows of data is too large for the program to process.\n",
    "\n",
    "**Answer:** Different counties may organize data in different ways. It will be a challenge to clean the data from the different counties to make the data uniform. The way pollution data is captured and organized may vary significantly from county to county.\n",
    "\n",
    "### Using Programs with Data Quiz\n",
    "\n",
    "#### Bookstore spreadsheet\n",
    "\n",
    "**A large spreadsheet contains the following information about the books at a bookstore. A sample portion of the spreadsheet is shown below.**\n",
    "\n",
    "![sml](https://github.com/manigggg18/manimani/blob/master/images/tl.png?raw=true)\n",
    "\n",
    "**An employee wants to count the number of books that meet all of the following criteria.**\n",
    "\n",
    "- **Is a mystery book**\n",
    "\n",
    "- **Costs less than $10.00**\n",
    "\n",
    "- **Has at least one copy in stock**\n",
    "\n",
    "**For a given row in the spreadsheet, suppose genre contains the genre as a string, num contains the number of copies in stock as a number, and cost contains the cost as a number. Which of the following expressions will evaluate to true if the book should be counted and evaluates to false otherwise?**\n",
    "\n",
    "A: (genre = \"mystery\") AND ((1 ≤ num) AND (cost < 10.00))\n",
    "\n",
    "B: (genre = \"mystery\") AND ((1 < num) AND (cost < 10.00))\n",
    "\n",
    "C: (genre = \"mystery\") OR ((1 ≤ num) OR (cost < 10.00))\n",
    "\n",
    "D: (genre = \"mystery\") OR ((1 < num) OR (cost < 10.00))\n",
    "\n",
    "**Answer:** (genre = \"mystery\") AND ((1 ≤ num) AND (cost < 10.00)). For a book to be counted, the value of genre must be \"mystery\" so that only mystery books are counted. The value of num must be greater than or equal to 1 so that only books that have at least one copy in stock are counted. The value of cost must be less than 10.00 so that only books that cost less than $10 are counted. All three conditions must be true, so the AND operator is used between them.\n",
    "\n",
    "#### Clothing store sales information\n",
    "\n",
    "**The owner of a clothing store records the following information for each transaction made at the store during a 7-day period.**\n",
    "\n",
    "- **The date of the transaction**\n",
    "\n",
    "- **The method of payment used in the transaction**\n",
    "\n",
    "- **The number of items purchased in the transaction**\n",
    "\n",
    "- **The total amount of the transaction, in dollars**\n",
    "\n",
    "**Customers can pay for purchases using cash, check, a debit card, or a credit card.**\n",
    "\n",
    "**Using only the data collected during the 7-day period, which of the following statements is true?**\n",
    "\n",
    "A: The average amount spent per day during the 7-day period can be determined by sorting the data by the total transaction amount, then adding the 7 greatest amounts, and then dividing the sum by 7.\n",
    "\n",
    "B: The method of payment that was used in the greatest number of transactions during the 7-day period can be determined by sorting the data by the method of payment, then adding the number of items purchased for each type of payment method, and then finding the maximum sum.\n",
    "\n",
    "C: The most expensive item purchased on a given date can be determined by searching the data for all items purchased on the given date and then sorting the matching items by item price.\n",
    "\n",
    "D: The total number of items purchased on a given date can be determined by searching the data for all transactions that occurred on the given date and then adding the number of items purchased for each matching transaction.\n",
    "\n",
    "**Answer:** The total number of items purchased on a given date can be determined by searching the data for all transactions that occurred on the given date and then adding the number of items purchased for each matching transaction.For each transaction, the data includes the date of the transaction and the number of items purchased in the transaction. By searching the data to find all transactions that occurred on the given date, and then adding the number of items purchased in each of those transactions, the total number of items purchased on a given date can be determined.\n",
    "\n",
    "#### Use of databases to display animal information\n",
    "\n",
    "**A wildlife preserve is developing an interactive exhibit for its guests. The exhibit is intended to allow guests to select the name of an animal on a touch screen and display various facts about the selected animal.**\n",
    "\n",
    "**For example, if a guest selects the animal name “wolf,” the exhibit is intended to display the following information.**\n",
    "\n",
    "- **Classification: mammal**\n",
    "\n",
    "- **Skin type: fur**\n",
    "\n",
    "- **Thermoregulation: warm-blooded**\n",
    "\n",
    "- **Lifestyle: pack**\n",
    "\n",
    "- **Average life span: 10–12 years**\n",
    "\n",
    "- **Top speed: 75 kilometers/hour**\n",
    "\n",
    "**The preserve has two databases of information available to use for the exhibit. The first database contains information for each animal’s name, classification, skin type, and thermoregulation. The second database contains information for each animal’s name, lifestyle, average life span, and top speed.**\n",
    "\n",
    "**Which of the following explains how the two databases can be used to develop the interactive exhibit?**\n",
    "\n",
    "A: Only the first database is needed. It can be searched by animal name to find all the information to be displayed.\n",
    "\n",
    "B: Only the second database is needed. It can be searched by animal name to find all the information to be displayed.\n",
    "\n",
    "C: Both databases are needed. Each database can be searched by animal name to find all information to be displayed.\n",
    "\n",
    "D: The two databases are not sufficient to display all the necessary information because the intended display information does not include the animal name.\n",
    "\n",
    "**Answer:** Both databases are needed. Each database can be searched by animal name to find all information to be displayed. The information to be displayed comes from both databases. The animal name can be used search the first database to find the classification, skin type, and thermoregulation information. The animal name can be used search the second database to find the lifestyle, average life span, and top speed information.\n",
    "\n",
    "## Album Dataset Stuff"
   ]
  },
  {
   "cell_type": "code",
   "execution_count": 11,
   "metadata": {},
   "outputs": [
    {
     "name": "stdout",
     "output_type": "stream",
     "text": [
      "Album ID: 2\n",
      "Creator: Radiohead\n",
      "Year of release: 2000\n",
      "Album ID: 7\n",
      "Creator: Radiohead\n",
      "Year of release: 2007\n",
      "Album ID: 5\n",
      "Creator: Portishead\n",
      "Year of release: 1994\n",
      "Album not found\n"
     ]
    }
   ],
   "source": [
    "import json\n",
    "\n",
    "with open('files/album.json', 'r') as f:\n",
    "    albums_data = json.load(f)\n",
    "\n",
    "def get_album_info(album_name):\n",
    "    album_id = albums_data[\"Album ID\"].get(album_name)\n",
    "    if album_id is None:\n",
    "        return \"Album not found\"\n",
    "\n",
    "    album_creator = albums_data[\"Creator\"][album_name]\n",
    "\n",
    "    album_year = albums_data[\"Year\"][album_name]\n",
    "\n",
    "    return f\"Album ID: {album_id}\\nCreator: {album_creator}\\nYear of release: {album_year}\"\n",
    "\n",
    "print(get_album_info(\"Kid A\"))\n",
    "print(get_album_info(\"In Rainbows\"))\n",
    "print(get_album_info(\"Dummy\"))\n",
    "print(get_album_info(\"Unknown Album\"))\n"
   ]
  },
  {
   "cell_type": "code",
   "execution_count": 12,
   "metadata": {},
   "outputs": [
    {
     "name": "stdout",
     "output_type": "stream",
     "text": [
      "Total albums: 9\n",
      "Albums per creator: {'UNKLE': 1, 'Radiohead': 3, 'Noah Hawley, Jeff Russo': 1, '21 Pilots': 1, 'Portishead': 1, 'Atoms for Peace': 1, 'The Police': 1}\n",
      "Average year of release: 2003.44\n",
      "Oldest album: Synchronicity\n",
      "Newest album: It's Always Blue\n",
      "\n"
     ]
    }
   ],
   "source": [
    "import json\n",
    "\n",
    "with open('files/album.json', 'r') as f:\n",
    "    albums_data = json.load(f)\n",
    "\n",
    "def get_album_stats(albums_data):\n",
    "    total_albums = len(albums_data[\"Album ID\"])\n",
    "\n",
    "    creator_counts = {}\n",
    "    for album in albums_data[\"Creator\"]:\n",
    "        creator = albums_data[\"Creator\"][album]\n",
    "        if creator in creator_counts:\n",
    "            creator_counts[creator] += 1\n",
    "        else:\n",
    "            creator_counts[creator] = 1\n",
    "\n",
    "    years = albums_data[\"Year\"].values()\n",
    "    avg_year = sum(years) / len(years)\n",
    "\n",
    "    oldest_album = min(albums_data[\"Year\"], key=albums_data[\"Year\"].get)\n",
    "    newest_album = max(albums_data[\"Year\"], key=albums_data[\"Year\"].get)\n",
    "\n",
    "    stats_str = (\n",
    "        f\"Total albums: {total_albums}\\n\"\n",
    "        f\"Albums per creator: {creator_counts}\\n\"\n",
    "        f\"Average year of release: {avg_year:.2f}\\n\"\n",
    "        f\"Oldest album: {oldest_album}\\n\"\n",
    "        f\"Newest album: {newest_album}\\n\"\n",
    "    )\n",
    "    return stats_str\n",
    "\n",
    "album_stats = get_album_stats(albums_data)\n",
    "print(album_stats)\n"
   ]
  }
 ],
 "metadata": {
  "kernelspec": {
   "display_name": "base",
   "language": "python",
   "name": "python3"
  },
  "language_info": {
   "codemirror_mode": {
    "name": "ipython",
    "version": 3
   },
   "file_extension": ".py",
   "mimetype": "text/x-python",
   "name": "python",
   "nbconvert_exporter": "python",
   "pygments_lexer": "ipython3",
   "version": "3.9.12"
  },
  "orig_nbformat": 4
 },
 "nbformat": 4,
 "nbformat_minor": 2
}
