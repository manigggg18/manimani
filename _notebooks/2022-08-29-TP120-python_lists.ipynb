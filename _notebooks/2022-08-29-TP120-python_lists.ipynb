{
 "cells": [
  {
   "cell_type": "markdown",
   "metadata": {},
   "source": [
    "# Lists, Dictionaries, Iteration\n",
    "> Data Abstraction using Python Lists [] and Python Dictionaries {}.\n",
    "\n",
    "- title: Lists, Dictionaries, Iteration\n",
    "- toc: true\n",
    "- categories: [units]\n",
    "- permalink: /collegeboard/python_lists\n",
    "- image: /images/python_lists.png\n",
    "- categories: [collegeboard]\n",
    "- tags: [python]"
   ]
  },
  {
   "cell_type": "markdown",
   "metadata": {},
   "source": [
    "## Basic L/D"
   ]
  },
  {
   "cell_type": "code",
   "execution_count": 7,
   "metadata": {},
   "outputs": [
    {
     "name": "stdout",
     "output_type": "stream",
     "text": [
      "name Mani T <class 'str'>\n",
      "age 17 <class 'int'>\n",
      "score 100.0 <class 'float'>\n",
      "\n",
      "langs ['Python', 'Bash', 'HTML'] <class 'list'>\n",
      "- langs[0] Python <class 'str'>\n",
      "\n",
      "person {'name': 'Mani T', 'age': 17, 'score': 100.0, 'langs': ['Python', 'Bash', 'HTML']} <class 'dict'>\n",
      "- person[\"name\"] Mani T <class 'str'>\n"
     ]
    }
   ],
   "source": [
    "name = \"Mani T\"\n",
    "print(\"name\", name, type(name))\n",
    "\n",
    "age = 17\n",
    "print(\"age\", age, type(age))\n",
    "\n",
    "score = 100.0\n",
    "print(\"score\", score, type(score))\n",
    "\n",
    "print()\n",
    "\n",
    "langs = [\"Python\", \"Bash\", \"HTML\"]\n",
    "print(\"langs\", langs, type(langs))\n",
    "print(\"- langs[0]\", langs[0], type(langs[0]))\n",
    "\n",
    "print()\n",
    "\n",
    "person = {\n",
    "    \"name\": name,\n",
    "    \"age\": age,\n",
    "    \"score\": score,\n",
    "    \"langs\": langs\n",
    "}\n",
    "print(\"person\", person, type(person))\n",
    "print('- person[\"name\"]', person[\"name\"], type(person[\"name\"]))\n"
   ]
  },
  {
   "cell_type": "markdown",
   "metadata": {},
   "source": [
    "## Complex L/D"
   ]
  },
  {
   "cell_type": "code",
   "execution_count": 6,
   "metadata": {},
   "outputs": [
    {
     "name": "stdout",
     "output_type": "stream",
     "text": [
      "[{'FirstName': 'Mani', 'LastName': 'Taleban', 'DOB': 'May 8', 'Residence': 'Somewhere', 'SE': 'moeint56403@stu.powayusd.com', 'PE': 'tmanimasih@gmail.com', 'School': 'Del Norte High School', 'FM': 'Whiplash', 'FB': 'Radiohead'}]\n",
      "For loop output\n",
      "\n",
      "Mani Taleban\n",
      "\t Residence: Somewhere\n",
      "\t Birth Day: May 8\n",
      "\t School Email: moeint56403@stu.powayusd.com\n",
      "\t Personal Email: tmanimasih@gmail.com\n",
      "\t School: Del Norte High School\n",
      "\t Favorite Movie: Whiplash\n",
      "\t Favorite Band: Radiohead\n",
      "\n"
     ]
    }
   ],
   "source": [
    "InfoDb = []\n",
    "\n",
    "InfoDb.append({\n",
    "    \"FirstName\": \"Mani\",\n",
    "    \"LastName\": \"Taleban\",\n",
    "    \"DOB\": \"May 8\",\n",
    "    \"Residence\": \"Somewhere\",\n",
    "    \"SE\": \"moeint56403@stu.powayusd.com\",\n",
    "    \"PE\": \"tmanimasih@gmail.com\",\n",
    "    \"School\": \"Del Norte High School\",\n",
    "    \"FM\": \"Whiplash\",\n",
    "    \"FB\": \"Radiohead\"\n",
    "    \n",
    "})\n",
    "\n",
    "print(InfoDb)\n",
    "\n",
    "def print_data(d_rec):\n",
    "    print(d_rec[\"FirstName\"], d_rec[\"LastName\"]) \n",
    "    print(\"\\t\", \"Residence:\", d_rec[\"Residence\"])\n",
    "    print(\"\\t\", \"Birth Day:\", d_rec[\"DOB\"])\n",
    "    print(\"\\t\", \"School Email:\", d_rec[\"SE\"])\n",
    "    print(\"\\t\", \"Personal Email:\", d_rec[\"PE\"])\n",
    "    print(\"\\t\", \"School:\", d_rec[\"School\"])\n",
    "    print(\"\\t\", \"Favorite Movie:\", d_rec[\"FM\"])\n",
    "    print(\"\\t\", \"Favorite Band:\", d_rec[\"FB\"])\n",
    "    print()\n",
    "\n",
    "\n",
    "def for_loop():\n",
    "    print(\"For loop output\\n\")\n",
    "    for record in InfoDb:\n",
    "        print_data(record)\n",
    "\n",
    "for_loop()"
   ]
  },
  {
   "cell_type": "markdown",
   "metadata": {},
   "source": [
    "## InfoDb based Quiz"
   ]
  },
  {
   "cell_type": "code",
   "execution_count": 3,
   "metadata": {},
   "outputs": [
    {
     "name": "stdout",
     "output_type": "stream",
     "text": [
      "Question: What should I listen to right now?\n",
      "Answer: music\n",
      ":)\n",
      "Question: When was I born?\n",
      "Answer: may 8\n",
      ":)\n",
      "Question: Why was I born?\n",
      "Answer: idk\n",
      ":)\n",
      "Question: Who plays Fletcher in Whiplash?\n",
      "Answer: jk simmons\n",
      ":)\n",
      "Question: How's it going?\n",
      "Answer: eh\n",
      ":)\n",
      "manimani you scored 5/5\n"
     ]
    }
   ],
   "source": [
    "import getpass ,sys\n",
    "\n",
    "def question_and_answer(prompt, answer):        \n",
    "    print(\"Question: \" + prompt)\n",
    "    msg = input()\n",
    "    print(\"Answer: \" + msg)\n",
    "    \n",
    "    if answer == msg.lower():\n",
    "        print(\":)\")\n",
    "        global correct\n",
    "        correct += 1\n",
    "    else:\n",
    "        print (\":(\")\n",
    "\n",
    "questions = 5\n",
    "correct = 0\n",
    "\n",
    "Q1 = question_and_answer(\"What should I listen to right now?\", \"music\")\n",
    "Q2 = question_and_answer(\"When was I born?\", \"may 8\")\n",
    "Q3 = question_and_answer(\"Why was I born?\", \"idk\")\n",
    "Q4 = question_and_answer(\"Who plays Fletcher in Whiplash?\", \"jk simmons\")\n",
    "Q5 = question_and_answer(\"How's it going?\", \"eh\")\n",
    "\n",
    "Questions = {\n",
    "    \"Q1\": Q1,\n",
    "    \"Q2\": Q2,\n",
    "    \"Q3\": Q3,\n",
    "    \"Q4\": Q4,\n",
    "    \"Q5\": Q5\n",
    "}\n",
    "\n",
    "print(getpass.getuser() + \" you scored \" + str(correct) +\"/\" + str(questions))"
   ]
  }
 ],
 "metadata": {
  "kernelspec": {
   "display_name": "Python 3.8.10 64-bit",
   "language": "python",
   "name": "python3"
  },
  "language_info": {
   "codemirror_mode": {
    "name": "ipython",
    "version": 3
   },
   "file_extension": ".py",
   "mimetype": "text/x-python",
   "name": "python",
   "nbconvert_exporter": "python",
   "pygments_lexer": "ipython3",
   "version": "3.8.10"
  },
  "orig_nbformat": 4,
  "vscode": {
   "interpreter": {
    "hash": "916dbcbb3f70747c44a77c7bcd40155683ae19c65e1c03b4aa3499c5328201f1"
   }
  }
 },
 "nbformat": 4,
 "nbformat_minor": 2
}
