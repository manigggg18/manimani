{
 "cells": [
  {
   "cell_type": "markdown",
   "metadata": {},
   "source": [
    "# Python Practice/Quiz\n",
    "\n",
    "- badges: true\n",
    "- comments: true\n",
    "- categories: [jupyter]"
   ]
  },
  {
   "cell_type": "markdown",
   "metadata": {},
   "source": [
    "The purpose of this entry is to capture the basics of Python in Jupyter."
   ]
  },
  {
   "cell_type": "markdown",
   "metadata": {},
   "source": [
    "### Greetings"
   ]
  },
  {
   "cell_type": "markdown",
   "metadata": {},
   "source": [
    "This greeting code uses a simple print command."
   ]
  },
  {
   "cell_type": "code",
   "execution_count": null,
   "metadata": {},
   "outputs": [],
   "source": [
    "print(\"Hello, please go ahead and try to don't fail the quiz!\")          # a greeting"
   ]
  },
  {
   "cell_type": "markdown",
   "metadata": {},
   "source": [
    "**The following code sequences provide a quiz about the basics of Python by using those basics:**\n",
    "\n",
    "import: Includes functions that were previously developed.\n",
    "\n",
    "def: def/function/procedure; used for defining a function usually at the beginning of a sequence.\n",
    "\n",
    "prompt: A message output to the user to describe the input requested.\n",
    "\n",
    "msg: Short for message, used to capture input command.\n",
    "\n",
    "Questions, answers and responses are defined using these basics.\n",
    "\n",
    "Rsp and if/else commands will be used for evaluating scores."
   ]
  },
  {
   "cell_type": "markdown",
   "metadata": {},
   "source": [
    "### Part 1: Mr. Mortensen's Questions"
   ]
  },
  {
   "cell_type": "code",
   "execution_count": 23,
   "metadata": {},
   "outputs": [
    {
     "name": "stdout",
     "output_type": "stream",
     "text": [
      "Hello, manimani running /bin/python3\n",
      "You will be asked 3 questions.\n",
      "Question: Are you ready to take a test?\n",
      "Answer: Yes\n",
      "Question: What command is used to include other functions that were previously developed?\n",
      "import is correct!\n",
      "Question: What command is used to evaluate correct or incorrect response in this example?\n",
      "if is correct!\n",
      "Question: Each 'if' command contains an '_________' to determine a true or false condition?\n",
      "expression is correct!\n",
      "manimani you scored 3/3\n"
     ]
    }
   ],
   "source": [
    "import getpass ,sys\n",
    "\n",
    "def question_and_answer(prompt):            # defining the Q&A Function    \n",
    "    print(\"Question: \" + prompt)\n",
    "    msg = input()\n",
    "    print(\"Answer: \" + msg)\n",
    "    \n",
    "def question_with_response(prompt):\n",
    "    print(\"Question: \" + prompt)\n",
    "    msg = input()\n",
    "    return msg\n",
    "\n",
    "questions = 3           # number of questions\n",
    "correct = 0            # running score\n",
    "\n",
    "print('Hello, ' + getpass.getuser() + \" running \" + sys.executable)             # greetings\n",
    "\n",
    "print(\"You will be asked \" + str(questions) + \" questions.\")            # the number of questions is presented here\n",
    "question_and_answer(\"Are you ready to take a test?\")            # this question does not need a correct answer since it's not using an rsp variable\n",
    "\n",
    "rsp = question_with_response(\"What command is used to include other functions that were previously developed?\")             # the following questions require a correct answer since they are using an rsp variable\n",
    "if rsp == \"import\":            # correct answer\n",
    "    print(rsp + \" is correct!\")             # response to a correct answer\n",
    "    correct += 1                   # gain points by answering correctly\n",
    "else:                 # giving an incorrect answer\n",
    "    print(rsp + \" is incorrect!\")               # response to an incorrect answer\n",
    "\n",
    "rsp = question_with_response(\"What command is used to evaluate correct or incorrect response in this example?\")\n",
    "if rsp == \"if\":\n",
    "    print(rsp + \" is correct!\")\n",
    "    correct += 1\n",
    "else:\n",
    "    print(rsp + \" is incorrect!\")\n",
    "\n",
    "rsp = question_with_response(\"Each 'if' command contains an '_________' to determine a true or false condition?\")\n",
    "if rsp == \"expression\":\n",
    "    print(rsp + \" is correct!\")\n",
    "    correct += 1\n",
    "else:\n",
    "    print(rsp + \" is incorrect!\")\n",
    "\n",
    "print(getpass.getuser() + \" you scored \" + str(correct) +\"/\" + str(questions))              # marks the end of the quiz"
   ]
  },
  {
   "cell_type": "markdown",
   "metadata": {},
   "source": [
    "### Part 2: My Questions"
   ]
  },
  {
   "cell_type": "code",
   "execution_count": 27,
   "metadata": {},
   "outputs": [
    {
     "name": "stdout",
     "output_type": "stream",
     "text": [
      "Question: What is the classic greetings in Python?\n",
      "Hello, World! is correct!\n",
      "Question: What command activates the jupyter notebook input box?\n",
      "input is correct!\n",
      "Question: Where is the false branch of code in an if command?\n",
      "else is correct!\n",
      "manimani you scored 3/3\n"
     ]
    }
   ],
   "source": [
    "import getpass ,sys\n",
    "\n",
    "questions = 3\n",
    "correct = 0\n",
    "\n",
    "rsp = question_with_response(\"What is the classic greetings in Python?\")\n",
    "if rsp == \"Hello, World!\":\n",
    "    print(rsp + \" is correct!\")\n",
    "    correct += 1\n",
    "else:\n",
    "    print(rsp + \" is incorrect!\")\n",
    "\n",
    "rsp = question_with_response(\"What command activates the jupyter notebook input box?\")\n",
    "if rsp == \"input\":\n",
    "    print(rsp + \" is correct!\")\n",
    "    correct += 1\n",
    "else:\n",
    "    print(rsp + \" is incorrect!\")\n",
    "    \n",
    "rsp = question_with_response(\"Where is the false branch of code in an if command?\")\n",
    "if rsp == \"else\":\n",
    "    print(rsp + \" is correct!\")\n",
    "    correct += 1\n",
    "else:\n",
    "    print(rsp + \" is incorrect!\")\n",
    "    \n",
    "print(getpass.getuser() + \" you scored \" + str(correct) +\"/\" + str(questions))"
   ]
  },
  {
   "cell_type": "markdown",
   "metadata": {},
   "source": [
    "> The end of the quiz. Have a nice day!"
   ]
  },
  {
   "cell_type": "markdown",
   "metadata": {},
   "source": [
    "Additional Resources:\n",
    "\n",
    "[These CollegeBoard videos](https://apclassroom.collegeboard.org/103/home?unit=3) are great for learning more about Python."
   ]
  }
 ],
 "metadata": {
  "kernelspec": {
   "display_name": "Python 3.8.10 64-bit",
   "language": "python",
   "name": "python3"
  },
  "language_info": {
   "codemirror_mode": {
    "name": "ipython",
    "version": 3
   },
   "file_extension": ".py",
   "mimetype": "text/x-python",
   "name": "python",
   "nbconvert_exporter": "python",
   "pygments_lexer": "ipython3",
   "version": "3.8.10"
  },
  "orig_nbformat": 4,
  "vscode": {
   "interpreter": {
    "hash": "916dbcbb3f70747c44a77c7bcd40155683ae19c65e1c03b4aa3499c5328201f1"
   }
  }
 },
 "nbformat": 4,
 "nbformat_minor": 2
}
